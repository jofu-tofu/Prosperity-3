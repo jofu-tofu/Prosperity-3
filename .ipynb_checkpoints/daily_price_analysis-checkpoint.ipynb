{
 "cells": [
  {
   "cell_type": "markdown",
   "metadata": {},
   "source": [
    "# Daily VWAP Price Analysis\n",
    "\n",
    "This notebook extracts unique daily VWAP prices by product and day from Prosperity 1, 2, and 3 data."
   ]
  },
  {
   "cell_type": "code",
   "execution_count": null,
   "metadata": {},
   "outputs": [],
   "source": [
    "import os\n",
    "import numpy as np\n",
    "import pandas as pd\n",
    "import matplotlib.pyplot as plt\n",
    "from datetime import datetime\n",
    "\n",
    "# Set display options\n",
    "pd.set_option('display.max_columns', None)\n",
    "pd.set_option('display.width', 1000)"
   ]
  },
  {
   "cell_type": "markdown",
   "metadata": {},
   "source": [
    "## Part 1: Loading and Processing Prosperity 1 and 2 Data\n",
    "\n",
    "First, we'll define functions to load and process the price data from Prosperity 1 and 2."
   ]
  },
  {
   "cell_type": "code",
   "execution_count": null,
   "metadata": {},
   "outputs": [],
   "source": [
    "# Define the data path\n",
    "datapath = \"Prosperity 3 Data/\"\n",
    "\n",
    "def load_price_data(round_num, day_num):\n",
    "    \"\"\"\n",
    "    Load price data for a specific round and day.\n",
    "    \n",
    "    Parameters:\n",
    "        round_num (int): Round number\n",
    "        day_num (int): Day number\n",
    "        \n",
    "    Returns:\n",
    "        pd.DataFrame: DataFrame with price data\n",
    "    \"\"\"\n",
    "    # Try different filename formats based on round\n",
    "    if round_num in [1, 2]:\n",
    "        filename = f\"Round {round_num}/prices_round_{round_num}_day_{day_num}.csv\"\n",
    "    else:  # For round 3\n",
    "        filename = f\"Round {round_num}/prices_round_{round_num}_day_{day_num}.csv\"\n",
    "    \n",
    "    filepath = os.path.join(datapath, filename)\n",
    "    \n",
    "    if not os.path.exists(filepath):\n",
    "        print(f\"Data file {filename} not found in {datapath}\")\n",
    "        return None\n",
    "    \n",
    "    # Load the data into a pandas DataFrame\n",
    "    data = pd.read_csv(filepath, sep=';')\n",
    "    \n",
    "    # Add day information\n",
    "    if 'DAY' not in data.columns:\n",
    "        data['DAY'] = day_num\n",
    "    \n",
    "    return data\n",
    "\n",
    "def load_all_price_data(round_num):\n",
    "    \"\"\"\n",
    "    Load all price data for a specific round.\n",
    "    \n",
    "    Parameters:\n",
    "        round_num (int): Round number\n",
    "        \n",
    "    Returns:\n",
    "        pd.DataFrame: DataFrame with all price data\n",
    "    \"\"\"\n",
    "    all_data = pd.DataFrame()\n",
    "    \n",
    "    for day_num in range(-2, 1):\n",
    "        data = load_price_data(round_num, day_num)\n",
    "        if data is not None:\n",
    "            # Add day offset to timestamp for continuity\n",
    "            data['timestamp'] += np.power(10, 6) * (day_num+2)\n",
    "            all_data = pd.concat([all_data, data])\n",
    "    \n",
    "    return all_data"
   ]
  },
  {
   "cell_type": "code",
   "execution_count": null,
   "metadata": {},
   "outputs": [],
   "source": [
    "def calculate_vwap(data, product):\n",
    "    \"\"\"\n",
    "    Calculate the Volume-Weighted Average Price (VWAP) for a specific product.\n",
    "    \n",
    "    Parameters:\n",
    "        data (pd.DataFrame): DataFrame with price data\n",
    "        product (str): Product name\n",
    "        \n",
    "    Returns:\n",
    "        pd.Series: VWAP series\n",
    "    \"\"\"\n",
    "    # Filter for the specific product\n",
    "    product_data = data[data['product'] == product].copy()\n",
    "    \n",
    "    if len(product_data) == 0:\n",
    "        print(f\"No data found for product {product}\")\n",
    "        return pd.Series()\n",
    "    \n",
    "    # Calculate mid price\n",
    "    product_data['mid_price'] = (product_data['ask_price_1'] + product_data['bid_price_1']) / 2\n",
    "    \n",
    "    # Calculate volume\n",
    "    product_data['volume'] = (\n",
    "        product_data['ask_volume_1'] + product_data['ask_volume_2'] + product_data['ask_volume_3'] +\n",
    "        product_data['bid_volume_1'] + product_data['bid_volume_2'] + product_data['bid_volume_3']\n",
    "    )\n",
    "    \n",
    "    # Calculate VWAP\n",
    "    product_data['price_volume'] = product_data['mid_price'] * product_data['volume']\n",
    "    vwap = product_data.groupby('timestamp')['price_volume'].sum() / product_data.groupby('timestamp')['volume'].sum()\n",
    "    \n",
    "    # Add day information\n",
    "    day_info = product_data.groupby('timestamp')['DAY'].first()\n",
    "    vwap_df = pd.DataFrame({'vwap': vwap, 'day': day_info})\n",
    "    \n",
    "    return vwap_df"
   ]
  },
  {
   "cell_type": "markdown",
   "metadata": {},
   "source": [
    "### Load Prosperity 1 Data"
   ]
  },
  {
   "cell_type": "code",
   "execution_count": null,
   "metadata": {},
   "outputs": [],
   "source": [
    "# Load Prosperity 1 data\n",
    "print(\"Loading Prosperity 1 data...\")\n",
    "prosperity1_data = load_all_price_data(1)\n",
    "print(f\"Loaded {len(prosperity1_data)} rows of data\")\n",
    "\n",
    "# Get unique products\n",
    "prosperity1_products = prosperity1_data['product'].unique()\n",
    "print(f\"Unique products in Prosperity 1: {prosperity1_products}\")"
   ]
  },
  {
   "cell_type": "code",
   "execution_count": null,
   "metadata": {},
   "outputs": [],
   "source": [
    "# Calculate VWAP for each product in Prosperity 1\n",
    "prosperity1_vwap = {}\n",
    "for product in prosperity1_products:\n",
    "    print(f\"Calculating VWAP for {product}...\")\n",
    "    vwap_df = calculate_vwap(prosperity1_data, product)\n",
    "    if not vwap_df.empty:\n",
    "        prosperity1_vwap[product] = vwap_df\n",
    "        print(f\"  Calculated VWAP with {len(vwap_df)} data points\")\n",
    "    else:\n",
    "        print(f\"  No VWAP data for {product}\")"
   ]
  },
  {
   "cell_type": "code",
   "execution_count": null,
   "metadata": {},
   "outputs": [],
   "source": [
    "# Create a daily VWAP dataframe for Prosperity 1\n",
    "prosperity1_daily_vwap = {}\n",
    "\n",
    "for product, vwap_df in prosperity1_vwap.items():\n",
    "    # Group by day and calculate mean VWAP\n",
    "    daily_vwap = vwap_df.groupby('day')['vwap'].mean()\n",
    "    prosperity1_daily_vwap[product] = daily_vwap\n",
    "\n",
    "# Convert to DataFrame\n",
    "prosperity1_daily_df = pd.DataFrame(prosperity1_daily_vwap)\n",
    "\n",
    "# Rename columns to product_d#\n",
    "prosperity1_daily_df_renamed = pd.DataFrame()\n",
    "for day in prosperity1_daily_df.index:\n",
    "    for product in prosperity1_daily_df.columns:\n",
    "        day_num = int(day) + 3  # Convert from -2,-1,0 to 1,2,3\n",
    "        new_col = f\"{product.lower()}_d{day_num}\"\n",
    "        prosperity1_daily_df_renamed[new_col] = [prosperity1_daily_df.loc[day, product]]\n",
    "\n",
    "prosperity1_daily_df_renamed"
   ]
  },
  {
   "cell_type": "markdown",
   "metadata": {},
   "source": [
    "### Load Prosperity 2 Data"
   ]
  },
  {
   "cell_type": "code",
   "execution_count": null,
   "metadata": {},
   "outputs": [],
   "source": [
    "# Load Prosperity 2 data\n",
    "print(\"Loading Prosperity 2 data...\")\n",
    "prosperity2_data = load_all_price_data(2)\n",
    "print(f\"Loaded {len(prosperity2_data)} rows of data\")\n",
    "\n",
    "# Get unique products\n",
    "prosperity2_products = prosperity2_data['product'].unique()\n",
    "print(f\"Unique products in Prosperity 2: {prosperity2_products}\")"
   ]
  },
  {
   "cell_type": "code",
   "execution_count": null,
   "metadata": {},
   "outputs": [],
   "source": [
    "# Calculate VWAP for each product in Prosperity 2\n",
    "prosperity2_vwap = {}\n",
    "for product in prosperity2_products:\n",
    "    print(f\"Calculating VWAP for {product}...\")\n",
    "    vwap_df = calculate_vwap(prosperity2_data, product)\n",
    "    if not vwap_df.empty:\n",
    "        prosperity2_vwap[product] = vwap_df\n",
    "        print(f\"  Calculated VWAP with {len(vwap_df)} data points\")\n",
    "    else:\n",
    "        print(f\"  No VWAP data for {product}\")"
   ]
  },
  {
   "cell_type": "code",
   "execution_count": null,
   "metadata": {},
   "outputs": [],
   "source": [
    "# Create a daily VWAP dataframe for Prosperity 2\n",
    "prosperity2_daily_vwap = {}\n",
    "\n",
    "for product, vwap_df in prosperity2_vwap.items():\n",
    "    # Group by day and calculate mean VWAP\n",
    "    daily_vwap = vwap_df.groupby('day')['vwap'].mean()\n",
    "    prosperity2_daily_vwap[product] = daily_vwap\n",
    "\n",
    "# Convert to DataFrame\n",
    "prosperity2_daily_df = pd.DataFrame(prosperity2_daily_vwap)\n",
    "\n",
    "# Rename columns to product_d#\n",
    "prosperity2_daily_df_renamed = pd.DataFrame()\n",
    "for day in prosperity2_daily_df.index:\n",
    "    for product in prosperity2_daily_df.columns:\n",
    "        day_num = int(day) + 3  # Convert from -2,-1,0 to 1,2,3\n",
    "        new_col = f\"{product.lower()}_d{day_num}\"\n",
    "        prosperity2_daily_df_renamed[new_col] = [prosperity2_daily_df.loc[day, product]]\n",
    "\n",
    "prosperity2_daily_df_renamed"
   ]
  },
  {
   "cell_type": "markdown",
   "metadata": {},
   "source": [
    "### Combine Prosperity 1 and 2 Data"
   ]
  },
  {
   "cell_type": "code",
   "execution_count": null,
   "metadata": {},
   "outputs": [],
   "source": [
    "# Combine Prosperity 1 and 2 daily VWAP data\n",
    "prosperity12_daily_df = pd.concat([prosperity1_daily_df_renamed, prosperity2_daily_df_renamed], axis=1)\n",
    "prosperity12_daily_df"
   ]
  },
  {
   "cell_type": "code",
   "execution_count": null,
   "metadata": {},
   "outputs": [],
   "source": [
    "# Save the combined data to CSV\n",
    "prosperity12_daily_df.to_csv('prosperity12_daily_vwap.csv', index=False)\n",
    "print(\"Saved Prosperity 1 and 2 daily VWAP data to prosperity12_daily_vwap.csv\")"
   ]
  }
 ],
 "metadata": {
  "kernelspec": {
   "display_name": "Python 3",
   "language": "python",
   "name": "python3"
  },
  "language_info": {
   "codemirror_mode": {
    "name": "ipython",
    "version": 3
   },
   "file_extension": ".py",
   "mimetype": "text/x-python",
   "name": "python",
   "nbconvert_exporter": "python",
   "pygments_lexer": "ipython3",
   "version": "3.8.10"
  }
 },
 "nbformat": 4,
 "nbformat_minor": 4
}
