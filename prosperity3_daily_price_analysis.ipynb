{
 "cells": [
  {
   "cell_type": "markdown",
   "metadata": {},
   "source": [
    "# Prosperity 3 Daily VWAP Price Analysis\n",
    "\n",
    "This notebook extracts unique daily VWAP prices by product and day from Prosperity 3 data."
   ]
  },
  {
   "cell_type": "code",
   "execution_count": 10,
   "metadata": {},
   "outputs": [],
   "source": [
    "import os\n",
    "import numpy as np\n",
    "import pandas as pd\n",
    "import matplotlib.pyplot as plt\n",
    "from datetime import datetime\n",
    "\n",
    "# Set display options\n",
    "pd.set_option('display.max_columns', None)\n",
    "pd.set_option('display.width', 1000)"
   ]
  },
  {
   "cell_type": "markdown",
   "metadata": {},
   "source": [
    "## Loading and Processing Prosperity 3 Data\n",
    "\n",
    "First, we'll define functions to load and process the price data from Prosperity 3."
   ]
  },
  {
   "cell_type": "code",
   "execution_count": 11,
   "metadata": {},
   "outputs": [],
   "source": [
    "# Define the data path\n",
    "datapath = \"Prosperity 3 Data/\"\n",
    "\n",
    "def load_price_data(round_num, day_num):\n",
    "    \"\"\"\n",
    "    Load price data for a specific round and day.\n",
    "    \n",
    "    Parameters:\n",
    "        round_num (int): Round number\n",
    "        day_num (int): Day number\n",
    "        \n",
    "    Returns:\n",
    "        pd.DataFrame: DataFrame with price data\n",
    "    \"\"\"\n",
    "    filename = f\"Round {round_num}/prices_round_{round_num}_day_{day_num}.csv\"\n",
    "    filepath = os.path.join(datapath, filename)\n",
    "    \n",
    "    if not os.path.exists(filepath):\n",
    "        print(f\"Data file {filename} not found in {datapath}\")\n",
    "        return None\n",
    "    \n",
    "    # Load the data into a pandas DataFrame\n",
    "    data = pd.read_csv(filepath, sep=';')\n",
    "    \n",
    "    # Add day information\n",
    "    if 'day' in data.columns:\n",
    "        # Use existing day column\n",
    "        data['DAY'] = data['day']\n",
    "    else:\n",
    "        data['DAY'] = day_num\n",
    "    \n",
    "    return data\n",
    "\n",
    "def load_all_price_data(round_num):\n",
    "    \"\"\"\n",
    "    Load all price data for a specific round.\n",
    "    \n",
    "    Parameters:\n",
    "        round_num (int): Round number\n",
    "        \n",
    "    Returns:\n",
    "        pd.DataFrame: DataFrame with all price data\n",
    "    \"\"\"\n",
    "    all_data = pd.DataFrame()\n",
    "    \n",
    "    for day_num in range(-2, 1):\n",
    "        data = load_price_data(round_num, day_num)\n",
    "        if data is not None:\n",
    "            # Add day offset to timestamp for continuity\n",
    "            data['timestamp'] += np.power(10, 6) * (day_num+2)\n",
    "            all_data = pd.concat([all_data, data])\n",
    "    \n",
    "    return all_data"
   ]
  },
  {
   "cell_type": "code",
   "execution_count": 12,
   "metadata": {},
   "outputs": [],
   "source": [
    "def calculate_vwap(data, product):\n",
    "    \"\"\"\n",
    "    Calculate the Volume-Weighted Average Price (VWAP) for a specific product.\n",
    "    \n",
    "    Parameters:\n",
    "        data (pd.DataFrame): DataFrame with price data\n",
    "        product (str): Product name\n",
    "        \n",
    "    Returns:\n",
    "        pd.Series: VWAP series\n",
    "    \"\"\"\n",
    "    # Filter for the specific product\n",
    "    product_data = data[data['product'] == product].copy().fillna(0)\n",
    "    if len(product_data) == 0:\n",
    "        print(f\"No data found for product {product}\")\n",
    "        return pd.DataFrame()\n",
    "    \n",
    "    # Check if mid_price is already in the dataframe\n",
    "    if 'mid_price' not in product_data.columns:\n",
    "        # Calculate mid price\n",
    "        product_data['mid_price'] = (product_data['ask_price_1'] + product_data['bid_price_1']) / 2\n",
    "    \n",
    "    # Calculate volume - handle missing columns gracefully\n",
    "    volume_cols = ['ask_volume_1', 'ask_volume_2', 'ask_volume_3', 'bid_volume_1', 'bid_volume_2', 'bid_volume_3']\n",
    "    for col in volume_cols:\n",
    "        if col not in product_data.columns:\n",
    "            product_data[col] = 0\n",
    "    \n",
    "    product_data['volume'] = (\n",
    "        product_data['ask_volume_1'] + product_data['ask_volume_2'] + product_data['ask_volume_3'] +\n",
    "        product_data['bid_volume_1'] + product_data['bid_volume_2'] + product_data['bid_volume_3']\n",
    "    )\n",
    "    dolvol = 0\n",
    "\n",
    "    for i in range(1, 4):\n",
    "        dolvol += product_data[f'ask_price_{i}'] * product_data[f'ask_volume_{i}']\n",
    "        dolvol += product_data[f'bid_price_{i}'] * product_data[f'bid_volume_{i}']\n",
    "    # Calculate VWAP\n",
    "    product_data['price_volume'] = dolvol\n",
    "    vwap = product_data.groupby('timestamp')['price_volume'].sum() / product_data.groupby('timestamp')['volume'].sum()\n",
    "    \n",
    "    # Add day information\n",
    "    day_info = product_data.groupby('timestamp')['DAY'].first()\n",
    "    vwap_df = pd.DataFrame({'vwap': vwap, 'day': day_info})\n",
    "    \n",
    "    return vwap_df"
   ]
  },
  {
   "cell_type": "markdown",
   "metadata": {},
   "source": [
    "### Load Prosperity 3 Data"
   ]
  },
  {
   "cell_type": "code",
   "execution_count": 13,
   "metadata": {},
   "outputs": [
    {
     "name": "stdout",
     "output_type": "stream",
     "text": [
      "Loading Prosperity 3 data...\n",
      "Data file Round 3/prices_round_3_day_-2.csv not found in Prosperity 3 Data/\n",
      "Data file Round 3/prices_round_3_day_-1.csv not found in Prosperity 3 Data/\n",
      "Loaded 140000 rows of data\n",
      "Unique products in Prosperity 3: ['VOLCANIC_ROCK_VOUCHER_10500' 'DJEMBES' 'CROISSANTS' 'JAMS'\n",
      " 'VOLCANIC_ROCK_VOUCHER_10000' 'KELP' 'VOLCANIC_ROCK_VOUCHER_9750'\n",
      " 'PICNIC_BASKET1' 'PICNIC_BASKET2' 'VOLCANIC_ROCK_VOUCHER_9500'\n",
      " 'RAINFOREST_RESIN' 'VOLCANIC_ROCK_VOUCHER_10250' 'SQUID_INK'\n",
      " 'VOLCANIC_ROCK']\n"
     ]
    }
   ],
   "source": [
    "# Load Prosperity 3 data\n",
    "print(\"Loading Prosperity 3 data...\")\n",
    "try:\n",
    "    prosperity3_data = load_all_price_data(3)\n",
    "    if len(prosperity3_data) > 0:\n",
    "        print(f\"Loaded {len(prosperity3_data)} rows of data\")\n",
    "        \n",
    "        # Get unique products\n",
    "        prosperity3_products = prosperity3_data['product'].unique()\n",
    "        print(f\"Unique products in Prosperity 3: {prosperity3_products}\")\n",
    "    else:\n",
    "        print(\"No data found for Prosperity 3\")\n",
    "        prosperity3_products = []\n",
    "except Exception as e:\n",
    "    print(f\"Error loading Prosperity 3 data: {e}\")\n",
    "    prosperity3_data = pd.DataFrame()\n",
    "    prosperity3_products = []"
   ]
  },
  {
   "cell_type": "code",
   "execution_count": 14,
   "metadata": {},
   "outputs": [
    {
     "name": "stdout",
     "output_type": "stream",
     "text": [
      "Calculating VWAP for VOLCANIC_ROCK_VOUCHER_10500...\n",
      "  Calculated VWAP with 10000 data points\n",
      "Calculating VWAP for DJEMBES...\n",
      "  Calculated VWAP with 10000 data points\n",
      "Calculating VWAP for CROISSANTS...\n",
      "  Calculated VWAP with 10000 data points\n",
      "Calculating VWAP for JAMS...\n",
      "  Calculated VWAP with 10000 data points\n",
      "Calculating VWAP for VOLCANIC_ROCK_VOUCHER_10000...\n",
      "  Calculated VWAP with 10000 data points\n",
      "Calculating VWAP for KELP...\n",
      "  Calculated VWAP with 10000 data points\n",
      "Calculating VWAP for VOLCANIC_ROCK_VOUCHER_9750...\n",
      "  Calculated VWAP with 10000 data points\n",
      "Calculating VWAP for PICNIC_BASKET1...\n",
      "  Calculated VWAP with 10000 data points\n",
      "Calculating VWAP for PICNIC_BASKET2...\n",
      "  Calculated VWAP with 10000 data points\n",
      "Calculating VWAP for VOLCANIC_ROCK_VOUCHER_9500...\n",
      "  Calculated VWAP with 10000 data points\n",
      "Calculating VWAP for RAINFOREST_RESIN...\n",
      "  Calculated VWAP with 10000 data points\n",
      "Calculating VWAP for VOLCANIC_ROCK_VOUCHER_10250...\n",
      "  Calculated VWAP with 10000 data points\n",
      "Calculating VWAP for SQUID_INK...\n",
      "  Calculated VWAP with 10000 data points\n",
      "Calculating VWAP for VOLCANIC_ROCK...\n",
      "  Calculated VWAP with 10000 data points\n"
     ]
    }
   ],
   "source": [
    "# Calculate VWAP for each product in Prosperity 3\n",
    "prosperity3_vwap = {}\n",
    "\n",
    "if len(prosperity3_products) > 0:\n",
    "    for product in prosperity3_products:\n",
    "        print(f\"Calculating VWAP for {product}...\")\n",
    "        vwap_df = calculate_vwap(prosperity3_data, product)\n",
    "        if not vwap_df.empty:\n",
    "            prosperity3_vwap[product] = vwap_df\n",
    "            print(f\"  Calculated VWAP with {len(vwap_df)} data points\")\n",
    "        else:\n",
    "            print(f\"  No VWAP data for {product}\")\n",
    "else:\n",
    "    print(\"No products found in Prosperity 3 data\")"
   ]
  },
  {
   "cell_type": "code",
   "execution_count": 16,
   "metadata": {},
   "outputs": [
    {
     "name": "stdout",
     "output_type": "stream",
     "text": [
      "Created timestamp VWAP dataframe with 14 columns\n",
      "Number of timestamps: 10000\n",
      "Saved Prosperity 3 timestamp VWAP data to prosperity3_timestamp_vwap.csv\n"
     ]
    }
   ],
   "source": [
    "# Create a timestamp-level VWAP dataframe for Prosperity 3\n",
    "prosperity3_timestamp_df = pd.DataFrame()\n",
    "\n",
    "if len(prosperity3_vwap) > 0:\n",
    "    # First, collect all unique timestamps across all products\n",
    "    all_timestamps = set()\n",
    "    for product, vwap_df in prosperity3_vwap.items():\n",
    "        all_timestamps.update(vwap_df.index)\n",
    "    \n",
    "    # Create a DataFrame with all timestamps as index\n",
    "    prosperity3_timestamp_df = pd.DataFrame(index=sorted(list(all_timestamps)))\n",
    "    \n",
    "    # Add each product's VWAP data\n",
    "    for product, vwap_df in prosperity3_vwap.items():\n",
    "        # For each day, create a column with product_d# naming\n",
    "        for day in vwap_df['day'].unique():\n",
    "            day_num = int(day) + 3  # Convert from -2,-1,0 to 1,2,3\n",
    "            col_name = f\"{product.lower()}_d{day_num}\"\n",
    "            \n",
    "            # Get VWAP values for this product and day\n",
    "            day_data = vwap_df[vwap_df['day'] == day]\n",
    "            prosperity3_timestamp_df[col_name] = day_data['vwap']\n",
    "    \n",
    "    print(f\"Created timestamp VWAP dataframe with {len(prosperity3_timestamp_df.columns)} columns\")\n",
    "    print(f\"Number of timestamps: {len(prosperity3_timestamp_df)}\")\n",
    "    \n",
    "    # Save the data to CSV\n",
    "    prosperity3_timestamp_df.to_csv('prosperity3_timestamp_vwap.csv')\n",
    "    print(\"Saved Prosperity 3 timestamp VWAP data to prosperity3_timestamp_vwap.csv\")\n",
    "else:\n",
    "    print(\"No VWAP data available for Prosperity 3\")"
   ]
  },
  {
   "cell_type": "markdown",
   "metadata": {},
   "source": [
    "## Compare with Prosperity 1 and 2 Data"
   ]
  },
  {
   "cell_type": "code",
   "execution_count": 19,
   "metadata": {},
   "outputs": [
    {
     "name": "stdout",
     "output_type": "stream",
     "text": [
      "Loaded Prosperity 1 and 2 daily VWAP data\n",
      "Shape: (1, 10)\n"
     ]
    }
   ],
   "source": [
    "# Load the Prosperity 1 and 2 data\n",
    "try:\n",
    "    prosperity12_daily_df = pd.read_csv('prosperity12_daily_vwap.csv')\n",
    "    print(\"Loaded Prosperity 1 and 2 daily VWAP data\")\n",
    "    print(f\"Shape: {prosperity12_daily_df.shape}\")\n",
    "    \n",
    "    # Display the first few rows\n",
    "    prosperity12_daily_df.head()\n",
    "except FileNotFoundError:\n",
    "    print(\"Prosperity 1 and 2 data file not found. Please run the other notebook first.\")"
   ]
  },
  {
   "cell_type": "code",
   "execution_count": 18,
   "metadata": {},
   "outputs": [
    {
     "ename": "NameError",
     "evalue": "name 'prosperity3_daily_df_renamed' is not defined",
     "output_type": "error",
     "traceback": [
      "\u001b[1;31m---------------------------------------------------------------------------\u001b[0m",
      "\u001b[1;31mNameError\u001b[0m                                 Traceback (most recent call last)",
      "Cell \u001b[1;32mIn[18], line 5\u001b[0m\n\u001b[0;32m      2\u001b[0m \u001b[38;5;28;01mif\u001b[39;00m \u001b[38;5;124m'\u001b[39m\u001b[38;5;124mprosperity12_daily_df\u001b[39m\u001b[38;5;124m'\u001b[39m \u001b[38;5;129;01min\u001b[39;00m \u001b[38;5;28mlocals\u001b[39m() \u001b[38;5;129;01mand\u001b[39;00m \u001b[38;5;129;01mnot\u001b[39;00m prosperity12_daily_df\u001b[38;5;241m.\u001b[39mempty:\n\u001b[0;32m      3\u001b[0m     p12_products \u001b[38;5;241m=\u001b[39m \u001b[38;5;28mset\u001b[39m([col\u001b[38;5;241m.\u001b[39msplit(\u001b[38;5;124m'\u001b[39m\u001b[38;5;124m_d\u001b[39m\u001b[38;5;124m'\u001b[39m)[\u001b[38;5;241m0\u001b[39m] \u001b[38;5;28;01mfor\u001b[39;00m col \u001b[38;5;129;01min\u001b[39;00m prosperity12_daily_df\u001b[38;5;241m.\u001b[39mcolumns])\n\u001b[1;32m----> 5\u001b[0m     \u001b[38;5;28;01mif\u001b[39;00m \u001b[38;5;129;01mnot\u001b[39;00m \u001b[43mprosperity3_daily_df_renamed\u001b[49m\u001b[38;5;241m.\u001b[39mempty:\n\u001b[0;32m      6\u001b[0m         p3_products \u001b[38;5;241m=\u001b[39m \u001b[38;5;28mset\u001b[39m([col\u001b[38;5;241m.\u001b[39msplit(\u001b[38;5;124m'\u001b[39m\u001b[38;5;124m_d\u001b[39m\u001b[38;5;124m'\u001b[39m)[\u001b[38;5;241m0\u001b[39m] \u001b[38;5;28;01mfor\u001b[39;00m col \u001b[38;5;129;01min\u001b[39;00m prosperity3_daily_df_renamed\u001b[38;5;241m.\u001b[39mcolumns])\n\u001b[0;32m      8\u001b[0m         common_products \u001b[38;5;241m=\u001b[39m p12_products\u001b[38;5;241m.\u001b[39mintersection(p3_products)\n",
      "\u001b[1;31mNameError\u001b[0m: name 'prosperity3_daily_df_renamed' is not defined"
     ]
    }
   ],
   "source": [
    "# Find common products between Prosperity 1, 2, and 3\n",
    "if 'prosperity12_daily_df' in locals() and not prosperity12_daily_df.empty:\n",
    "    p12_products = set([col.split('_d')[0] for col in prosperity12_daily_df.columns])\n",
    "    \n",
    "    if not prosperity3_daily_df_renamed.empty:\n",
    "        p3_products = set([col.split('_d')[0] for col in prosperity3_daily_df_renamed.columns])\n",
    "        \n",
    "        common_products = p12_products.intersection(p3_products)\n",
    "        print(f\"Common products: {common_products}\")\n",
    "        \n",
    "        p12_only = p12_products - p3_products\n",
    "        print(f\"Products only in Prosperity 1 & 2: {p12_only}\")\n",
    "        \n",
    "        p3_only = p3_products - p12_products\n",
    "        print(f\"Products only in Prosperity 3: {p3_only}\")\n",
    "    else:\n",
    "        print(\"No Prosperity 3 data available for comparison\")\n",
    "        print(f\"Products in Prosperity 1 & 2: {p12_products}\")\n",
    "else:\n",
    "    print(\"No Prosperity 1 & 2 data available for comparison\")"
   ]
  }
 ],
 "metadata": {
  "kernelspec": {
   "display_name": "prosperity",
   "language": "python",
   "name": "python3"
  },
  "language_info": {
   "codemirror_mode": {
    "name": "ipython",
    "version": 3
   },
   "file_extension": ".py",
   "mimetype": "text/x-python",
   "name": "python",
   "nbconvert_exporter": "python",
   "pygments_lexer": "ipython3",
   "version": "3.11.8"
  }
 },
 "nbformat": 4,
 "nbformat_minor": 4
}
