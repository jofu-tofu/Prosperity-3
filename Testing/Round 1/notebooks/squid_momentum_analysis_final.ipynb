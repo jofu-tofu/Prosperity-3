# Define strategy functions
strategy_funcs = {
    'simple_momentum': smt.simple_momentum,
    'rate_of_change': smt.rate_of_change,
    'rsi': smt.rsi,
    'cmma': smt.cmma,
    'macd': smt.macd
}

# Run Monte Carlo permutation tests
mcpt_results = []

for name, func in strategy_funcs.items():
    print(f"Testing {name}...")
    # All strategy functions now use the parameter name 'lookback'
    try:
        result = smt.momentum_mcpt(
            squid_vwap, 
            func, 
            block_size=1,  # Reduced block size to avoid numerical issues
            num_permutations=3,  # Reduced number of permutations for faster execution
            lookback=lookback
        )
        mcpt_results.append(result)
    except Exception as e:
        print(f"Error in {name}: {e}")
        # Add a placeholder result
        mcpt_results.append({
            'Strategy': name,
            'Base Returns': np.nan,
            'Permuted Returns Mean': np.nan,
            'Permuted Returns Std': np.nan,
            'p-value': np.nan,
            'Significant': False
        })

mcpt_df = pd.DataFrame(mcpt_results)
mcpt_df