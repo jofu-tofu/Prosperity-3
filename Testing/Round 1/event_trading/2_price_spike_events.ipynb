# Plot cumulative returns for the best strategies
plt.figure(figsize=(15, 7))

# Sort strategies by Sharpe ratio
top_strategies = metrics_df.sort_values('Sharpe Ratio', ascending=False).head(10).index

for strategy_name in top_strategies:
    returns = strategy_results[strategy_name]['Returns']
    plt.plot(returns.cumsum(), label=strategy_name)

plt.title('Cumulative Returns of Top Price Spike Strategies')
plt.legend()
plt.grid(True)
plt.show()