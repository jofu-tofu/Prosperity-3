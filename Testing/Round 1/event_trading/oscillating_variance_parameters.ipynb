{
 "cells": [
  {
   "cell_type": "markdown",
   "metadata": {},
   "source": [
    "# Oscillating Variance Parameter Exploration\n",
    "\n",
    "This notebook focuses on exploring different parameter selections for oscillating variance events in Squid_Ink data. We'll use only the first 20,000 timestamps (in-sample data) for our analysis."
   ]
  },
  {
   "cell_type": "code",
   "execution_count": null,
   "metadata": {},
   "outputs": [],
   "source": [
    "import sys\n",
    "import os\n",
    "\n",
    "# Import our backtester package\n",
    "sys.path.append(os.path.abspath('../../'))\n",
    "from backtester import get_price_data, get_vwap, relative_entropy_binned\n",
    "print(\"Using backtester package\")\n",
    "\n",
    "import numpy as np\n",
    "import pandas as pd\n",
    "import matplotlib.pyplot as plt\n",
    "from scipy.stats import norm\n",
    "from itertools import product"
   ]
  },
  {
   "cell_type": "markdown",
   "metadata": {},
   "source": [
    "## 1. Load Data\n",
    "\n",
    "First, let's load the Squid_Ink price data and limit it to the first 20,000 timestamps (in-sample data)."
   ]
  },
  {
   "cell_type": "code",
   "execution_count": null,
   "metadata": {},
   "outputs": [],
   "source": [
    "# Load data directly using backtester package\n",
    "print(\"Loading price data...\")\n",
    "prices = get_price_data('SQUID_INK', 1)\n",
    "print(f\"Loaded {len(prices)} price data points\")\n",
    "\n",
    "# Limit to first 20,000 timestamps (in-sample data)\n",
    "in_sample_prices = prices.iloc[:20000]\n",
    "print(f\"Limited to {len(in_sample_prices)} in-sample data points\")\n",
    "\n",
    "# Get VWAP\n",
    "print(\"Getting VWAP for SQUID_INK...\")\n",
    "squid_vwap = in_sample_prices['vwap']\n",
    "print(f\"Got VWAP with {len(squid_vwap)} data points\")\n",
    "print(f\"VWAP range: {squid_vwap.min()} to {squid_vwap.max()}\")\n",
    "\n",
    "# Calculate log returns\n",
    "log_ret = np.log(squid_vwap).diff().dropna()\n",
    "print(f\"Calculated log returns with {len(log_ret)} data points\")"
   ]
  },
  {
   "cell_type": "markdown",
   "metadata": {},
   "source": [
    "## 2. Define Function to Calculate Oscillating Variance\n",
    "\n",
    "Let's define a function to calculate oscillating variance with different parameters."
   ]
  },
  {
   "cell_type": "code",
   "execution_count": null,
   "metadata": {},
   "outputs": [],
   "source": [
    "def calculate_oscillating_variance(returns, vol_window, var_window):\n",
    "    \"\"\"\n",
    "    Calculate oscillating variance with specified parameters.\n",
    "    \n",
    "    Parameters:\n",
    "    - returns: Series of log returns\n",
    "    - vol_window: Window size for volatility calculation\n",
    "    - var_window: Window size for variance of volatility calculation\n",
    "    \n",
    "    Returns:\n",
    "    - Series with oscillating variance\n",
    "    \"\"\"\n",
    "    # Calculate volatility (standard deviation of returns)\n",
    "    volatility = returns.rolling(window=vol_window).std()\n",
    "    \n",
    "    # Calculate oscillating variance (variance of volatility)\n",
    "    osc_var = volatility.rolling(window=var_window).var()\n",
    "    \n",
    "    return osc_var"
   ]
  },
  {
   "cell_type": "markdown",
   "metadata": {},
   "source": [
    "## 3. Explore Different Parameter Combinations\n",
    "\n",
    "Let's explore different combinations of volatility window and variance window parameters."
   ]
  },
  {
   "cell_type": "code",
   "execution_count": null,
   "metadata": {},
   "outputs": [],
   "source": [
    "# Define parameter ranges to explore\n",
    "vol_windows = [10, 20, 50, 100]\n",
    "var_windows = [10, 20, 50, 100]\n",
    "\n",
    "# Calculate oscillating variance for each parameter combination\n",
    "osc_var_results = {}\n",
    "\n",
    "for vol_window, var_window in product(vol_windows, var_windows):\n",
    "    param_key = f\"vol_{vol_window}_var_{var_window}\"\n",
    "    osc_var_results[param_key] = calculate_oscillating_variance(log_ret, vol_window, var_window)\n",
    "\n",
    "# Create a DataFrame with all results\n",
    "osc_var_df = pd.DataFrame(osc_var_results)\n",
    "\n",
    "# Display the first few rows\n",
    "osc_var_df.head(10)"
   ]
  },
  {
   "cell_type": "markdown",
   "metadata": {},
   "source": [
    "## 4. Visualize Oscillating Variance for Different Parameters\n",
    "\n",
    "Let's visualize how oscillating variance changes with different parameter combinations."
   ]
  },
  {
   "cell_type": "code",
   "execution_count": null,
   "metadata": {},
   "outputs": [],
   "source": [
    "# Plot oscillating variance for different parameter combinations\n",
    "plt.figure(figsize=(15, 15))\n",
    "\n",
    "# Plot for each volatility window\n",
    "for i, vol_window in enumerate(vol_windows):\n",
    "    plt.subplot(len(vol_windows), 1, i+1)\n",
    "    \n",
    "    for var_window in var_windows:\n",
    "        param_key = f\"vol_{vol_window}_var_{var_window}\"\n",
    "        plt.plot(osc_var_df[param_key], label=f\"Var Window = {var_window}\")\n",
    "    \n",
    "    plt.title(f\"Oscillating Variance with Volatility Window = {vol_window}\")\n",
    "    plt.legend()\n",
    "    plt.grid(True)\n",
    "\n",
    "plt.tight_layout()\n",
    "plt.show()"
   ]
  },
  {
   "cell_type": "code",
   "execution_count": null,
   "metadata": {},
   "outputs": [],
   "source": [
    "# Plot distributions of oscillating variance for different parameters\n",
    "plt.figure(figsize=(15, 15))\n",
    "\n",
    "# Create a grid of subplots\n",
    "fig, axes = plt.subplots(len(vol_windows), len(var_windows), figsize=(15, 15))\n",
    "\n",
    "# Plot histogram for each parameter combination\n",
    "for i, vol_window in enumerate(vol_windows):\n",
    "    for j, var_window in enumerate(var_windows):\n",
    "        param_key = f\"vol_{vol_window}_var_{var_window}\"\n",
    "        axes[i, j].hist(osc_var_df[param_key].dropna(), bins=50)\n",
    "        axes[i, j].set_title(f\"Vol={vol_window}, Var={var_window}\")\n",
    "        axes[i, j].grid(True)\n",
    "\n",
    "plt.tight_layout()\n",
    "plt.show()"
   ]
  },
  {
   "cell_type": "markdown",
   "metadata": {},
   "source": [
    "## 5. Calculate Statistics for Different Parameters\n",
    "\n",
    "Let's calculate statistics for oscillating variance with different parameter combinations."
   ]
  },
  {
   "cell_type": "code",
   "execution_count": null,
   "metadata": {},
   "outputs": [],
   "source": [
    "# Calculate statistics for each parameter combination\n",
    "stats = []\n",
    "\n",
    "for vol_window, var_window in product(vol_windows, var_windows):\n",
    "    param_key = f\"vol_{vol_window}_var_{var_window}\"\n",
    "    osc_var = osc_var_df[param_key].dropna()\n",
    "    \n",
    "    # Calculate statistics\n",
    "    stats.append({\n",
    "        'Vol Window': vol_window,\n",
    "        'Var Window': var_window,\n",
    "        'Mean': osc_var.mean(),\n",
    "        'Median': osc_var.median(),\n",
    "        'Std Dev': osc_var.std(),\n",
    "        'Skewness': osc_var.skew(),\n",
    "        'Kurtosis': osc_var.kurt(),\n",
    "        'Min': osc_var.min(),\n",
    "        'Max': osc_var.max(),\n",
    "        'Count': len(osc_var)\n",
    "    })\n",
    "\n",
    "# Create a DataFrame with statistics\n",
    "stats_df = pd.DataFrame(stats)\n",
    "\n",
    "# Display the statistics\n",
    "stats_df"
   ]
  },
  {
   "cell_type": "markdown",
   "metadata": {},
   "source": [
    "## 6. Define and Detect Oscillating Variance Events\n",
    "\n",
    "Let's define oscillating variance events for different parameter combinations and detect them in the data."
   ]
  },
  {
   "cell_type": "code",
   "execution_count": null,
   "metadata": {},
   "outputs": [],
   "source": [
    "# Define function to detect oscillating variance events\n",
    "def detect_osc_var_events(osc_var, std_multiplier=2.0):\n",
    "    \"\"\"\n",
    "    Detect oscillating variance events based on threshold.\n",
    "    \n",
    "    Parameters:\n",
    "    - osc_var: Series with oscillating variance values\n",
    "    - std_multiplier: Multiplier for standard deviation to set threshold\n",
    "    \n",
    "    Returns:\n",
    "    - Series with event indicators (1 for event, 0 for no event)\n",
    "    \"\"\"\n",
    "    # Calculate mean and standard deviation\n",
    "    mean = osc_var.mean()\n",
    "    std = osc_var.std()\n",
    "    \n",
    "    # Set threshold\n",
    "    threshold = mean + std_multiplier * std\n",
    "    \n",
    "    # Detect events\n",
    "    events = (osc_var > threshold).astype(int)\n",
    "    \n",
    "    return events, threshold"
   ]
  },
  {
   "cell_type": "code",
   "execution_count": null,
   "metadata": {},
   "outputs": [],
   "source": [
    "# Define standard deviation multipliers to explore\n",
    "std_multipliers = [1.5, 2.0, 2.5]\n",
    "\n",
    "# Detect events for each parameter combination and std multiplier\n",
    "event_results = {}\n",
    "threshold_results = {}\n",
    "\n",
    "for vol_window, var_window in product(vol_windows, var_windows):\n",
    "    param_key = f\"vol_{vol_window}_var_{var_window}\"\n",
    "    osc_var = osc_var_df[param_key].dropna()\n",
    "    \n",
    "    for std_multiplier in std_multipliers:\n",
    "        event_key = f\"{param_key}_std_{std_multiplier}\"\n",
    "        events, threshold = detect_osc_var_events(osc_var, std_multiplier)\n",
    "        event_results[event_key] = events\n",
    "        threshold_results[event_key] = threshold\n",
    "\n",
    "# Create a DataFrame with events\n",
    "event_df = pd.DataFrame(event_results)\n",
    "\n",
    "# Display the first few rows\n",
    "event_df.head(10)"
   ]
  },
  {
   "cell_type": "markdown",
   "metadata": {},
   "source": [
    "## 7. Analyze Event Frequency\n",
    "\n",
    "Let's analyze the frequency of oscillating variance events for different parameter combinations."
   ]
  },
  {
   "cell_type": "code",
   "execution_count": null,
   "metadata": {},
   "outputs": [],
   "source": [
    "# Calculate event frequency for each parameter combination\n",
    "event_stats = []\n",
    "\n",
    "for vol_window, var_window in product(vol_windows, var_windows):\n",
    "    param_key = f\"vol_{vol_window}_var_{var_window}\"\n",
    "    \n",
    "    for std_multiplier in std_multipliers:\n",
    "        event_key = f\"{param_key}_std_{std_multiplier}\"\n",
    "        events = event_df[event_key]\n",
    "        \n",
    "        # Calculate event frequency\n",
    "        event_count = events.sum()\n",
    "        event_percentage = event_count / len(events) * 100\n",
    "        \n",
    "        # Store results\n",
    "        event_stats.append({\n",
    "            'Vol Window': vol_window,\n",
    "            'Var Window': var_window,\n",
    "            'Std Multiplier': std_multiplier,\n",
    "            'Event Count': event_count,\n",
    "            'Event Percentage': event_percentage,\n",
    "            'Threshold': threshold_results[event_key]\n",
    "        })\n",
    "\n",
    "# Create a DataFrame with event statistics\n",
    "event_stats_df = pd.DataFrame(event_stats)\n",
    "\n",
    "# Display the event statistics\n",
    "event_stats_df.sort_values('Event Percentage', ascending=False)"
   ]
  },
  {
   "cell_type": "markdown",
   "metadata": {},
   "source": [
    "## 8. Visualize Events for Selected Parameters\n",
    "\n",
    "Let's visualize the oscillating variance events for selected parameter combinations."
   ]
  },
  {
   "cell_type": "code",
   "execution_count": null,
   "metadata": {},
   "outputs": [],
   "source": [
    "# Select top parameter combinations based on event frequency\n",
    "top_params = event_stats_df.sort_values('Event Percentage', ascending=False).head(3)\n",
    "top_params"
   ]
  },
  {
   "cell_type": "code",
   "execution_count": null,
   "metadata": {},
   "outputs": [],
   "source": [
    "# Visualize events for top parameter combinations\n",
    "plt.figure(figsize=(15, 15))\n",
    "\n",
    "for i, row in enumerate(top_params.itertuples()):\n",
    "    vol_window = row.Vol_Window\n",
    "    var_window = row.Var_Window\n",
    "    std_multiplier = row.Std_Multiplier\n",
    "    \n",
    "    param_key = f\"vol_{vol_window}_var_{var_window}\"\n",
    "    event_key = f\"{param_key}_std_{std_multiplier}\"\n",
    "    \n",
    "    # Get oscillating variance and events\n",
    "    osc_var = osc_var_df[param_key]\n",
    "    events = event_df[event_key]\n",
    "    threshold = threshold_results[event_key]\n",
    "    \n",
    "    # Get event timestamps\n",
    "    event_times = events[events == 1].index\n",
    "    \n",
    "    # Plot oscillating variance with events\n",
    "    plt.subplot(3, 1, i+1)\n",
    "    plt.plot(osc_var, label='Oscillating Variance')\n",
    "    plt.axhline(y=threshold, color='r', linestyle='--', label='Threshold')\n",
    "    plt.scatter(event_times, osc_var.loc[event_times], \n",
    "                marker='o', s=100, color='red', label='Events')\n",
    "    \n",
    "    plt.title(f\"Oscillating Variance Events (Vol={vol_window}, Var={var_window}, Std={std_multiplier})\")\n",
    "    plt.legend()\n",
    "    plt.grid(True)\n",
    "\n",
    "plt.tight_layout()\n",
    "plt.show()"
   ]
  },
  {
   "cell_type": "markdown",
   "metadata": {},
   "source": [
    "## 9. Analyze Post-Event Returns\n",
    "\n",
    "Let's analyze the returns following oscillating variance events for the top parameter combinations."
   ]
  },
  {
   "cell_type": "code",
   "execution_count": null,
   "metadata": {},
   "outputs": [],
   "source": [
    "# Define function to calculate post-event returns\n",
    "def calculate_post_event_returns(events, returns, horizons=[1, 5, 10, 20, 50]):\n",
    "    \"\"\"Calculate returns after events for different time horizons.\"\"\"\n",
    "    post_returns = {}\n",
    "    \n",
    "    # Get event timestamps\n",
    "    event_times = events[events == 1].index\n",
    "    \n",
    "    if len(event_times) == 0:\n",
    "        return {h: np.nan for h in horizons}\n",
    "    \n",
    "    # Calculate post-event returns for each horizon\n",
    "    for horizon in horizons:\n",
    "        horizon_returns = []\n",
    "        \n",
    "        for time in event_times:\n",
    "            try:\n",
    "                # Get the index position\n",
    "                idx = returns.index.get_loc(time)\n",
    "                \n",
    "                # Calculate cumulative return for the horizon\n",
    "                if idx + horizon < len(returns):\n",
    "                    cum_ret = returns.iloc[idx+1:idx+horizon+1].sum()\n",
    "                    horizon_returns.append(cum_ret)\n",
    "            except:\n",
    "                continue\n",
    "        \n",
    "        if horizon_returns:\n",
    "            post_returns[horizon] = {\n",
    "                'mean': np.mean(horizon_returns),\n",
    "                'median': np.median(horizon_returns),\n",
    "                'std': np.std(horizon_returns),\n",
    "                'min': np.min(horizon_returns),\n",
    "                'max': np.max(horizon_returns),\n",
    "                'count': len(horizon_returns)\n",
    "            }\n",
    "        else:\n",
    "            post_returns[horizon] = {\n",
    "                'mean': np.nan,\n",
    "                'median': np.nan,\n",
    "                'std': np.nan,\n",
    "                'min': np.nan,\n",
    "                'max': np.nan,\n",
    "                'count': 0\n",
    "            }\n",
    "    \n",
    "    return post_returns"
   ]
  },
  {
   "cell_type": "code",
   "execution_count": null,
   "metadata": {},
   "outputs": [],
   "source": [
    "# Calculate post-event returns for top parameter combinations\n",
    "post_event_returns = {}\n",
    "\n",
    "for i, row in enumerate(top_params.itertuples()):\n",
    "    vol_window = row.Vol_Window\n",
    "    var_window = row.Var_Window\n",
    "    std_multiplier = row.Std_Multiplier\n",
    "    \n",
    "    param_key = f\"vol_{vol_window}_var_{var_window}\"\n",
    "    event_key = f\"{param_key}_std_{std_multiplier}\"\n",
    "    \n",
    "    # Get events\n",
    "    events = event_df[event_key]\n",
    "    \n",
    "    # Calculate post-event returns\n",
    "    post_returns = calculate_post_event_returns(events, log_ret)\n",
    "    post_event_returns[event_key] = post_returns\n",
    "\n",
    "# Display post-event returns for the first parameter combination\n",
    "first_key = list(post_event_returns.keys())[0]\n",
    "pd.DataFrame(post_event_returns[first_key]).T"
   ]
  },
  {
   "cell_type": "code",
   "execution_count": null,
   "metadata": {},
   "outputs": [],
   "source": [
    "# Visualize post-event returns for top parameter combinations\n",
    "plt.figure(figsize=(15, 10))\n",
    "\n",
    "for i, event_key in enumerate(post_event_returns.keys()):\n",
    "    post_returns = post_event_returns[event_key]\n",
    "    \n",
    "    # Extract mean returns for each horizon\n",
    "    horizons = list(post_returns.keys())\n",
    "    mean_returns = [post_returns[h]['mean'] for h in horizons]\n",
    "    \n",
    "    # Plot mean returns\n",
    "    plt.plot(horizons, mean_returns, marker='o', label=event_key)\n",
    "\n",
    "plt.axhline(y=0, color='r', linestyle='--')\n",
    "plt.title('Post-Event Returns for Top Parameter Combinations')\n",
    "plt.xlabel('Time Horizon')\n",
    "plt.ylabel('Average Return')\n",
    "plt.legend()\n",
    "plt.grid(True)\n",
    "plt.show()"
   ]
  },
  {
   "cell_type": "markdown",
   "metadata": {},
   "source": [
    "## 10. Conclusion\n",
    "\n",
    "In this notebook, we've explored different parameter selections for oscillating variance events in Squid_Ink data. We've analyzed how the choice of volatility window, variance window, and standard deviation multiplier affects the detection of oscillating variance events.\n",
    "\n",
    "Key findings:\n",
    "1. Different parameter combinations lead to different event frequencies and characteristics\n",
    "2. The top parameter combinations based on event frequency are [to be filled after running]\n",
    "3. Post-event returns show [to be filled after running]\n",
    "\n",
    "Based on this analysis, the optimal parameter selection for oscillating variance events appears to be [to be filled after running]."
   ]
  }
 ],
 "metadata": {
  "kernelspec": {
   "display_name": "Python 3",
   "language": "python",
   "name": "python3"
  },
  "language_info": {
   "codemirror_mode": {
    "name": "ipython",
    "version": 3
   },
   "file_extension": ".py",
   "mimetype": "text/x-python",
   "name": "python",
   "nbconvert_exporter": "python",
   "pygments_lexer": "ipython3",
   "version": "3.8.5"
  }
 },
 "nbformat": 4,
 "nbformat_minor": 4
}
