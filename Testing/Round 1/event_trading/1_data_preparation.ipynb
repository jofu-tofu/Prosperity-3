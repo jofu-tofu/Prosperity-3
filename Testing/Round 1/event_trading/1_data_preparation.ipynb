{
 "cells": [
  {
   "cell_type": "markdown",
   "metadata": {},
   "source": [
    "# Event-Based Trading: Data Preparation\n",
    "\n",
    "This notebook focuses on loading and preprocessing the Squid_Ink data for event-based trading analysis. We'll use only the first 20,000 timestamps (in-sample data) for our analysis."
   ]
  },
  {
   "cell_type": "code",
   "execution_count": null,
   "metadata": {},
   "outputs": [],
   "source": [
    "import sys\n",
    "import os\n",
    "\n",
    "# Import our backtester package\n",
    "sys.path.append(os.path.abspath('../../'))\n",
    "from backtester import get_price_data, get_vwap, relative_entropy_binned\n",
    "print(\"Using backtester package\")\n",
    "\n",
    "import numpy as np\n",
    "import pandas as pd\n",
    "import matplotlib.pyplot as plt\n",
    "from scipy.stats import norm"
   ]
  },
  {
   "cell_type": "markdown",
   "metadata": {},
   "source": [
    "## 1. Load Data\n",
    "\n",
    "First, let's load the Squid_Ink price data and limit it to the first 20,000 timestamps (in-sample data)."
   ]
  },
  {
   "cell_type": "code",
   "execution_count": null,
   "metadata": {},
   "outputs": [],
   "source": [
    "# Load data directly using backtester package\n",
    "print(\"Loading price data...\")\n",
    "prices = get_price_data('SQUID_INK', 1)\n",
    "print(f\"Loaded {len(prices)} price data points\")\n",
    "\n",
    "# Limit to first 20,000 timestamps (in-sample data)\n",
    "in_sample_prices = prices.iloc[:20000]\n",
    "print(f\"Limited to {len(in_sample_prices)} in-sample data points\")\n",
    "\n",
    "# Get VWAP\n",
    "print(\"Getting VWAP for SQUID_INK...\")\n",
    "squid_vwap = in_sample_prices['vwap']\n",
    "print(f\"Got VWAP with {len(squid_vwap)} data points\")\n",
    "print(f\"VWAP range: {squid_vwap.min()} to {squid_vwap.max()}\")\n",
    "\n",
    "# Calculate log returns\n",
    "log_ret = np.log(squid_vwap).diff().dropna()\n",
    "print(f\"Calculated log returns with {len(log_ret)} data points\")\n",
    "\n",
    "# Plot VWAP\n",
    "plt.figure(figsize=(15, 5))\n",
    "plt.plot(squid_vwap)\n",
    "plt.title('Squid_Ink VWAP (In-Sample Data)')\n",
    "plt.grid(True)\n",
    "plt.show()"
   ]
  },
  {
   "cell_type": "markdown",
   "metadata": {},
   "source": [
    "## 2. Calculate Basic Statistics\n",
    "\n",
    "Let's calculate some basic statistics for the in-sample data."
   ]
  },
  {
   "cell_type": "code",
   "execution_count": null,
   "metadata": {},
   "outputs": [],
   "source": [
    "# Calculate basic statistics for VWAP\n",
    "vwap_stats = {\n",
    "    'Mean': squid_vwap.mean(),\n",
    "    'Median': squid_vwap.median(),\n",
    "    'Std Dev': squid_vwap.std(),\n",
    "    'Min': squid_vwap.min(),\n",
    "    'Max': squid_vwap.max(),\n",
    "    'Range': squid_vwap.max() - squid_vwap.min(),\n",
    "    'IQR': squid_vwap.quantile(0.75) - squid_vwap.quantile(0.25)\n",
    "}\n",
    "\n",
    "# Calculate basic statistics for log returns\n",
    "ret_stats = {\n",
    "    'Mean': log_ret.mean(),\n",
    "    'Median': log_ret.median(),\n",
    "    'Std Dev': log_ret.std(),\n",
    "    'Min': log_ret.min(),\n",
    "    'Max': log_ret.max(),\n",
    "    'Range': log_ret.max() - log_ret.min(),\n",
    "    'IQR': log_ret.quantile(0.75) - log_ret.quantile(0.25)\n",
    "}\n",
    "\n",
    "# Display statistics\n",
    "print(\"VWAP Statistics:\")\n",
    "pd.Series(vwap_stats)\n"
   ]
  },
  {
   "cell_type": "code",
   "execution_count": null,
   "metadata": {},
   "outputs": [],
   "source": [
    "print(\"Log Returns Statistics:\")\n",
    "pd.Series(ret_stats)"
   ]
  },
  {
   "cell_type": "markdown",
   "metadata": {},
   "source": [
    "## 3. Visualize Distributions\n",
    "\n",
    "Let's visualize the distributions of VWAP and log returns."
   ]
  },
  {
   "cell_type": "code",
   "execution_count": null,
   "metadata": {},
   "outputs": [],
   "source": [
    "# Plot VWAP distribution\n",
    "plt.figure(figsize=(15, 5))\n",
    "\n",
    "plt.subplot(1, 2, 1)\n",
    "plt.hist(squid_vwap, bins=50, alpha=0.7)\n",
    "plt.title('VWAP Distribution')\n",
    "plt.grid(True)\n",
    "\n",
    "plt.subplot(1, 2, 2)\n",
    "plt.hist(log_ret, bins=50, alpha=0.7)\n",
    "plt.title('Log Returns Distribution')\n",
    "plt.grid(True)\n",
    "\n",
    "plt.tight_layout()\n",
    "plt.show()"
   ]
  },
  {
   "cell_type": "markdown",
   "metadata": {},
   "source": [
    "## 4. Calculate Order Book Features\n",
    "\n",
    "Let's calculate some order book features that might be useful for event-based trading."
   ]
  },
  {
   "cell_type": "code",
   "execution_count": null,
   "metadata": {},
   "outputs": [],
   "source": [
    "# Calculate bid-ask spread\n",
    "in_sample_prices['spread'] = in_sample_prices['ask_price_1'] - in_sample_prices['bid_price_1']\n",
    "\n",
    "# Calculate mid price\n",
    "in_sample_prices['mid_price_calc'] = (in_sample_prices['ask_price_1'] + in_sample_prices['bid_price_1']) / 2\n",
    "\n",
    "# Calculate order book imbalance\n",
    "in_sample_prices['bid_volume_total'] = in_sample_prices['bid_volume_1'] + in_sample_prices['bid_volume_2'].fillna(0) + in_sample_prices['bid_volume_3'].fillna(0)\n",
    "in_sample_prices['ask_volume_total'] = in_sample_prices['ask_volume_1'] + in_sample_prices['ask_volume_2'].fillna(0) + in_sample_prices['ask_volume_3'].fillna(0)\n",
    "in_sample_prices['volume_imbalance'] = (in_sample_prices['bid_volume_total'] - in_sample_prices['ask_volume_total']) / (in_sample_prices['bid_volume_total'] + in_sample_prices['ask_volume_total'])\n",
    "\n",
    "# Display the first few rows with the new features\n",
    "in_sample_prices[['spread', 'mid_price_calc', 'bid_volume_total', 'ask_volume_total', 'volume_imbalance']].head()"
   ]
  },
  {
   "cell_type": "markdown",
   "metadata": {},
   "source": [
    "## 5. Visualize Order Book Features\n",
    "\n",
    "Let's visualize the order book features we calculated."
   ]
  },
  {
   "cell_type": "code",
   "execution_count": null,
   "metadata": {},
   "outputs": [],
   "source": [
    "# Plot spread\n",
    "plt.figure(figsize=(15, 10))\n",
    "\n",
    "plt.subplot(3, 1, 1)\n",
    "plt.plot(in_sample_prices['spread'])\n",
    "plt.title('Bid-Ask Spread')\n",
    "plt.grid(True)\n",
    "\n",
    "plt.subplot(3, 1, 2)\n",
    "plt.plot(in_sample_prices['volume_imbalance'])\n",
    "plt.title('Volume Imbalance')\n",
    "plt.grid(True)\n",
    "\n",
    "plt.subplot(3, 1, 3)\n",
    "plt.scatter(in_sample_prices['volume_imbalance'], in_sample_prices['spread'], alpha=0.5)\n",
    "plt.title('Volume Imbalance vs. Spread')\n",
    "plt.xlabel('Volume Imbalance')\n",
    "plt.ylabel('Spread')\n",
    "plt.grid(True)\n",
    "\n",
    "plt.tight_layout()\n",
    "plt.show()"
   ]
  },
  {
   "cell_type": "markdown",
   "metadata": {},
   "source": [
    "## 6. Save Processed Data\n",
    "\n",
    "Let's save the processed data for use in other notebooks."
   ]
  },
  {
   "cell_type": "code",
   "execution_count": null,
   "metadata": {},
   "outputs": [],
   "source": [
    "# Create a directory for processed data if it doesn't exist\n",
    "import os\n",
    "if not os.path.exists('processed_data'):\n",
    "    os.makedirs('processed_data')\n",
    "\n",
    "# Save the processed data\n",
    "in_sample_prices.to_pickle('processed_data/in_sample_prices.pkl')\n",
    "pd.Series(squid_vwap).to_pickle('processed_data/squid_vwap.pkl')\n",
    "pd.Series(log_ret).to_pickle('processed_data/log_ret.pkl')\n",
    "\n",
    "print(\"Processed data saved successfully.\")"
   ]
  },
  {
   "cell_type": "markdown",
   "metadata": {},
   "source": [
    "## 7. Conclusion\n",
    "\n",
    "In this notebook, we've loaded and preprocessed the Squid_Ink data for event-based trading analysis. We've limited our analysis to the first 20,000 timestamps (in-sample data) and calculated various features that might be useful for identifying trading events.\n",
    "\n",
    "In the next notebooks, we'll explore different types of events and develop trading strategies based on these events."
   ]
  }
 ],
 "metadata": {
  "kernelspec": {
   "display_name": "Python 3",
   "language": "python",
   "name": "python3"
  },
  "language_info": {
   "codemirror_mode": {
    "name": "ipython",
    "version": 3
   },
   "file_extension": ".py",
   "mimetype": "text/x-python",
   "name": "python",
   "nbconvert_exporter": "python",
   "pygments_lexer": "ipython3",
   "version": "3.8.5"
  }
 },
 "nbformat": 4,
 "nbformat_minor": 4
}
