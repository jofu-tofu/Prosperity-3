{
 "cells": [
  {
   "cell_type": "markdown",
   "metadata": {},
   "source": [
    "# Volume Imbalance Event Analysis\n",
    "\n",
    "This notebook focuses on analyzing volume imbalance events for Squid_Ink. We'll use only the first 20,000 timestamps (in-sample data) for our analysis."
   ]
  },
  {
   "cell_type": "code",
   "execution_count": null,
   "metadata": {},
   "outputs": [],
   "source": [
    "import sys\n",
    "import os\n",
    "\n",
    "# Import our backtester package\n",
    "sys.path.append(os.path.abspath('../../'))\n",
    "from backtester import get_price_data, get_vwap, relative_entropy_binned\n",
    "print(\"Using backtester package\")\n",
    "\n",
    "import numpy as np\n",
    "import pandas as pd\n",
    "import matplotlib.pyplot as plt\n",
    "from scipy.stats import norm"
   ]
  },
  {
   "cell_type": "markdown",
   "metadata": {},
   "source": [
    "## 1. Load Data\n",
    "\n",
    "First, let's load the Squid_Ink price data and limit it to the first 20,000 timestamps (in-sample data)."
   ]
  },
  {
   "cell_type": "code",
   "execution_count": null,
   "metadata": {},
   "outputs": [],
   "source": [
    "# Load data directly using backtester package\n",
    "print(\"Loading price data...\")\n",
    "prices = get_price_data('SQUID_INK', 1)\n",
    "print(f\"Loaded {len(prices)} price data points\")\n",
    "\n",
    "# Limit to first 20,000 timestamps (in-sample data)\n",
    "in_sample_prices = prices.iloc[:20000]\n",
    "print(f\"Limited to {len(in_sample_prices)} in-sample data points\")\n",
    "\n",
    "# Get VWAP\n",
    "print(\"Getting VWAP for SQUID_INK...\")\n",
    "squid_vwap = in_sample_prices['vwap']\n",
    "print(f\"Got VWAP with {len(squid_vwap)} data points\")\n",
    "print(f\"VWAP range: {squid_vwap.min()} to {squid_vwap.max()}\")\n",
    "\n",
    "# Calculate log returns\n",
    "log_ret = np.log(squid_vwap).diff().dropna()\n",
    "print(f\"Calculated log returns with {len(log_ret)} data points\")"
   ]
  },
  {
   "cell_type": "markdown",
   "metadata": {},
   "source": [
    "## 2. Calculate Volume Imbalance\n",
    "\n",
    "Let's calculate volume imbalance metrics from the order book data."
   ]
  },
  {
   "cell_type": "code",
   "execution_count": null,
   "metadata": {},
   "outputs": [],
   "source": [
    "# Calculate bid and ask volumes\n",
    "in_sample_prices['bid_volume_total'] = in_sample_prices['bid_volume_1'] + in_sample_prices['bid_volume_2'].fillna(0) + in_sample_prices['bid_volume_3'].fillna(0)\n",
    "in_sample_prices['ask_volume_total'] = in_sample_prices['ask_volume_1'] + in_sample_prices['ask_volume_2'].fillna(0) + in_sample_prices['ask_volume_3'].fillna(0)\n",
    "\n",
    "# Calculate volume imbalance ratio\n",
    "in_sample_prices['volume_imbalance'] = (in_sample_prices['bid_volume_total'] - in_sample_prices['ask_volume_total']) / (in_sample_prices['bid_volume_total'] + in_sample_prices['ask_volume_total'])\n",
    "\n",
    "# Display the first few rows\n",
    "in_sample_prices[['bid_volume_total', 'ask_volume_total', 'volume_imbalance']].head()"
   ]
  },
  {
   "cell_type": "markdown",
   "metadata": {},
   "source": [
    "## 3. Visualize Volume Imbalance\n",
    "\n",
    "Let's visualize the volume imbalance over time and its distribution."
   ]
  },
  {
   "cell_type": "code",
   "execution_count": null,
   "metadata": {},
   "outputs": [],
   "source": [
    "# Plot volume imbalance over time\n",
    "plt.figure(figsize=(15, 10))\n",
    "\n",
    "plt.subplot(2, 1, 1)\n",
    "plt.plot(in_sample_prices['volume_imbalance'])\n",
    "plt.title('Volume Imbalance Over Time')\n",
    "plt.axhline(y=0, color='r', linestyle='--')\n",
    "plt.grid(True)\n",
    "\n",
    "plt.subplot(2, 1, 2)\n",
    "plt.hist(in_sample_prices['volume_imbalance'].dropna(), bins=50)\n",
    "plt.title('Volume Imbalance Distribution')\n",
    "plt.axvline(x=0, color='r', linestyle='--')\n",
    "plt.grid(True)\n",
    "\n",
    "plt.tight_layout()\n",
    "plt.show()"
   ]
  },
  {
   "cell_type": "markdown",
   "metadata": {},
   "source": [
    "## 4. Define Volume Imbalance Events\n",
    "\n",
    "Let's define volume imbalance events based on extreme values."
   ]
  },
  {
   "cell_type": "code",
   "execution_count": null,
   "metadata": {},
   "outputs": [],
   "source": [
    "# Calculate statistics for volume imbalance\n",
    "imbalance_mean = in_sample_prices['volume_imbalance'].mean()\n",
    "imbalance_std = in_sample_prices['volume_imbalance'].std()\n",
    "\n",
    "print(f\"Volume imbalance mean: {imbalance_mean:.4f}\")\n",
    "print(f\"Volume imbalance std: {imbalance_std:.4f}\")\n",
    "\n",
    "# Define thresholds for extreme volume imbalance\n",
    "imbalance_thresholds = {\n",
    "    'moderate': imbalance_mean + 1.5 * imbalance_std,  # 1.5 standard deviations\n",
    "    'strong': imbalance_mean + 2.0 * imbalance_std,    # 2.0 standard deviations\n",
    "    'extreme': imbalance_mean + 2.5 * imbalance_std    # 2.5 standard deviations\n",
    "}\n",
    "\n",
    "# Display the thresholds\n",
    "for name, threshold in imbalance_thresholds.items():\n",
    "    print(f\"{name.capitalize()} imbalance threshold: {threshold:.4f}\")"
   ]
  },
  {
   "cell_type": "code",
   "execution_count": null,
   "metadata": {},
   "outputs": [],
   "source": [
    "# Identify volume imbalance events\n",
    "imbalance_events = pd.DataFrame(index=in_sample_prices.index)\n",
    "imbalance_events['volume_imbalance'] = in_sample_prices['volume_imbalance']\n",
    "\n",
    "# Classify imbalance events by magnitude\n",
    "for name, threshold in imbalance_thresholds.items():\n",
    "    # Positive imbalance (more bids than asks)\n",
    "    imbalance_events[f'{name}_pos_imbalance'] = (imbalance_events['volume_imbalance'] > threshold).astype(int)\n",
    "    \n",
    "    # Negative imbalance (more asks than bids)\n",
    "    imbalance_events[f'{name}_neg_imbalance'] = (imbalance_events['volume_imbalance'] < -threshold).astype(int)\n",
    "\n",
    "# Display the first few rows\n",
    "imbalance_events.head()"
   ]
  },
  {
   "cell_type": "markdown",
   "metadata": {},
   "source": [
    "## 5. Analyze Volume Imbalance Events\n",
    "\n",
    "Let's analyze the frequency and characteristics of volume imbalance events."
   ]
  },
  {
   "cell_type": "code",
   "execution_count": null,
   "metadata": {},
   "outputs": [],
   "source": [
    "# Count the number of imbalance events by type\n",
    "imbalance_counts = {}\n",
    "\n",
    "for col in imbalance_events.columns:\n",
    "    if col.endswith('_imbalance'):\n",
    "        imbalance_counts[col] = imbalance_events[col].sum()\n",
    "\n",
    "# Calculate the percentage of imbalance events\n",
    "total_points = len(imbalance_events)\n",
    "imbalance_percentages = {k: v / total_points * 100 for k, v in imbalance_counts.items()}\n",
    "\n",
    "# Display the counts and percentages\n",
    "counts_df = pd.DataFrame({\n",
    "    'Count': imbalance_counts,\n",
    "    'Percentage (%)': imbalance_percentages\n",
    "})\n",
    "\n",
    "counts_df"
   ]
  },
  {
   "cell_type": "markdown",
   "metadata": {},
   "source": [
    "## 6. Visualize Volume Imbalance Events\n",
    "\n",
    "Let's visualize the volume imbalance events on the VWAP chart."
   ]
  },
  {
   "cell_type": "code",
   "execution_count": null,
   "metadata": {},
   "outputs": [],
   "source": [
    "# Plot VWAP with volume imbalance events\n",
    "plt.figure(figsize=(15, 10))\n",
    "\n",
    "# Plot VWAP\n",
    "plt.subplot(2, 1, 1)\n",
    "plt.plot(squid_vwap, label='VWAP', alpha=0.7)\n",
    "\n",
    "# Plot extreme positive imbalance events\n",
    "extreme_pos_events = imbalance_events[imbalance_events['extreme_pos_imbalance'] == 1].index\n",
    "plt.scatter(extreme_pos_events, squid_vwap.loc[extreme_pos_events], \n",
    "            marker='^', s=100, color='green', label='Extreme Positive Imbalance')\n",
    "\n",
    "# Plot extreme negative imbalance events\n",
    "extreme_neg_events = imbalance_events[imbalance_events['extreme_neg_imbalance'] == 1].index\n",
    "plt.scatter(extreme_neg_events, squid_vwap.loc[extreme_neg_events], \n",
    "            marker='v', s=100, color='red', label='Extreme Negative Imbalance')\n",
    "\n",
    "plt.title('Squid_Ink VWAP with Volume Imbalance Events')\n",
    "plt.legend()\n",
    "plt.grid(True)\n",
    "\n",
    "# Plot volume imbalance\n",
    "plt.subplot(2, 1, 2)\n",
    "plt.plot(imbalance_events['volume_imbalance'], label='Volume Imbalance', alpha=0.7)\n",
    "plt.axhline(y=imbalance_thresholds['extreme'], color='green', linestyle='--', label='Extreme Positive Threshold')\n",
    "plt.axhline(y=-imbalance_thresholds['extreme'], color='red', linestyle='--', label='Extreme Negative Threshold')\n",
    "plt.axhline(y=0, color='black', linestyle='-')\n",
    "\n",
    "plt.title('Volume Imbalance')\n",
    "plt.legend()\n",
    "plt.grid(True)\n",
    "\n",
    "plt.tight_layout()\n",
    "plt.show()"
   ]
  },
  {
   "cell_type": "markdown",
   "metadata": {},
   "source": [
    "## 7. Analyze Post-Event Returns\n",
    "\n",
    "Let's analyze the returns following volume imbalance events."
   ]
  },
  {
   "cell_type": "code",
   "execution_count": null,
   "metadata": {},
   "outputs": [],
   "source": [
    "# Define function to calculate post-event returns\n",
    "def calculate_post_event_returns(events, returns, event_col, horizons=[1, 5, 10, 20]):\n",
    "    \"\"\"Calculate returns after events for different time horizons.\"\"\"\n",
    "    post_returns = {}\n",
    "    \n",
    "    # Get event timestamps\n",
    "    event_times = events[events[event_col] == 1].index\n",
    "    \n",
    "    if len(event_times) == 0:\n",
    "        return {h: np.nan for h in horizons}\n",
    "    \n",
    "    # Calculate post-event returns for each horizon\n",
    "    for horizon in horizons:\n",
    "        horizon_returns = []\n",
    "        \n",
    "        for time in event_times:\n",
    "            try:\n",
    "                # Get the index position\n",
    "                idx = returns.index.get_loc(time)\n",
    "                \n",
    "                # Calculate cumulative return for the horizon\n",
    "                if idx + horizon < len(returns):\n",
    "                    cum_ret = returns.iloc[idx+1:idx+horizon+1].sum()\n",
    "                    horizon_returns.append(cum_ret)\n",
    "            except:\n",
    "                continue\n",
    "        \n",
    "        if horizon_returns:\n",
    "            post_returns[horizon] = np.mean(horizon_returns)\n",
    "        else:\n",
    "            post_returns[horizon] = np.nan\n",
    "    \n",
    "    return post_returns"
   ]
  },
  {
   "cell_type": "code",
   "execution_count": null,
   "metadata": {},
   "outputs": [],
   "source": [
    "# Calculate post-event returns for different imbalance events\n",
    "horizons = [1, 5, 10, 20, 50]\n",
    "post_returns = {}\n",
    "\n",
    "for col in imbalance_events.columns:\n",
    "    if col.endswith('_imbalance'):\n",
    "        post_returns[col] = calculate_post_event_returns(imbalance_events, log_ret, col, horizons)\n",
    "\n",
    "# Convert to DataFrame for easier analysis\n",
    "post_returns_df = pd.DataFrame(post_returns)\n",
    "\n",
    "# Display the results\n",
    "post_returns_df"
   ]
  },
  {
   "cell_type": "code",
   "execution_count": null,
   "metadata": {},
   "outputs": [],
   "source": [
    "# Visualize post-event returns\n",
    "plt.figure(figsize=(15, 10))\n",
    "\n",
    "# Plot post-event returns for positive imbalance events\n",
    "plt.subplot(2, 1, 1)\n",
    "for col in [c for c in post_returns_df.columns if 'pos_imbalance' in c]:\n",
    "    plt.plot(post_returns_df.index, post_returns_df[col], marker='o', label=col)\n",
    "plt.axhline(y=0, color='r', linestyle='--')\n",
    "plt.title('Post-Event Returns for Positive Imbalance Events')\n",
    "plt.xlabel('Time Horizon')\n",
    "plt.ylabel('Average Return')\n",
    "plt.legend()\n",
    "plt.grid(True)\n",
    "\n",
    "# Plot post-event returns for negative imbalance events\n",
    "plt.subplot(2, 1, 2)\n",
    "for col in [c for c in post_returns_df.columns if 'neg_imbalance' in c]:\n",
    "    plt.plot(post_returns_df.index, post_returns_df[col], marker='o', label=col)\n",
    "plt.axhline(y=0, color='r', linestyle='--')\n",
    "plt.title('Post-Event Returns for Negative Imbalance Events')\n",
    "plt.xlabel('Time Horizon')\n",
    "plt.ylabel('Average Return')\n",
    "plt.legend()\n",
    "plt.grid(True)\n",
    "\n",
    "plt.tight_layout()\n",
    "plt.show()"
   ]
  },
  {
   "cell_type": "markdown",
   "metadata": {},
   "source": [
    "## 8. Develop a Trading Strategy\n",
    "\n",
    "Based on our analysis of volume imbalance events, let's develop a simple trading strategy."
   ]
  },
  {
   "cell_type": "code",
   "execution_count": null,
   "metadata": {},
   "outputs": [],
   "source": [
    "# Define a simple trading strategy based on volume imbalance\n",
    "def imbalance_trading_strategy(prices, log_ret, imbalance_events, event_type, horizon):\n",
    "    \"\"\"Implement a simple trading strategy based on volume imbalance events.\n",
    "    \n",
    "    Parameters:\n",
    "    - prices: DataFrame with price data\n",
    "    - log_ret: Series with log returns\n",
    "    - imbalance_events: DataFrame with imbalance events\n",
    "    - event_type: Type of event to trade (e.g., 'extreme_pos_imbalance')\n",
    "    - horizon: Holding period after event\n",
    "    \n",
    "    Returns:\n",
    "    - positions: Series with trading positions (1 for long, -1 for short, 0 for no position)\n",
    "    - returns: Series with strategy returns\n",
    "    \"\"\"\n",
    "    # Initialize positions\n",
    "    positions = pd.Series(0, index=prices.index)\n",
    "    \n",
    "    # Get event timestamps\n",
    "    event_times = imbalance_events[imbalance_events[event_type] == 1].index\n",
    "    \n",
    "    # Set positions based on events\n",
    "    for time in event_times:\n",
    "        try:\n",
    "            # Get the index position\n",
    "            idx = prices.index.get_loc(time)\n",
    "            \n",
    "            # Set position based on event type\n",
    "            if 'pos_imbalance' in event_type:\n",
    "                # For positive imbalance (more bids than asks), go long\n",
    "                pos = 1\n",
    "            elif 'neg_imbalance' in event_type:\n",
    "                # For negative imbalance (more asks than bids), go short\n",
    "                pos = -1\n",
    "            else:\n",
    "                continue\n",
    "            \n",
    "            # Set position for the holding period\n",
    "            end_idx = min(idx + horizon + 1, len(positions))\n",
    "            positions.iloc[idx+1:end_idx] = pos\n",
    "            \n",
    "        except Exception as e:\n",
    "            print(f\"Error processing event at {time}: {e}\")\n",
    "            continue\n",
    "    \n",
    "    # Calculate strategy returns\n",
    "    # Shift positions by 1 to avoid look-ahead bias\n",
    "    strategy_returns = positions.shift(1) * log_ret\n",
    "    \n",
    "    return positions, strategy_returns.dropna()"
   ]
  },
  {
   "cell_type": "code",
   "execution_count": null,
   "metadata": {},
   "outputs": [],
   "source": [
    "# Test the strategy with different parameters\n",
    "strategy_results = {}\n",
    "\n",
    "# Test different event types and horizons\n",
    "for event_type in ['moderate_pos_imbalance', 'moderate_neg_imbalance', \n",
    "                   'strong_pos_imbalance', 'strong_neg_imbalance',\n",
    "                   'extreme_pos_imbalance', 'extreme_neg_imbalance']:\n",
    "    for horizon in [5, 10, 20]:\n",
    "        strategy_name = f\"{event_type}_h{horizon}\"\n",
    "        \n",
    "        # Run the strategy\n",
    "        positions, returns = imbalance_trading_strategy(\n",
    "            in_sample_prices, log_ret, imbalance_events, event_type, horizon)\n",
    "        \n",
    "        # Calculate performance metrics\n",
    "        total_return = returns.sum()\n",
    "        sharpe_ratio = returns.mean() / returns.std() * np.sqrt(252)  # Annualized\n",
    "        win_rate = (returns > 0).mean()\n",
    "        \n",
    "        # Store results\n",
    "        strategy_results[strategy_name] = {\n",
    "            'Total Return': total_return,\n",
    "            'Sharpe Ratio': sharpe_ratio,\n",
    "            'Win Rate': win_rate,\n",
    "            'Returns': returns\n",
    "        }\n",
    "\n",
    "# Display performance metrics\n",
    "metrics_df = pd.DataFrame({\n",
    "    name: {\n",
    "        'Total Return': results['Total Return'],\n",
    "        'Sharpe Ratio': results['Sharpe Ratio'],\n",
    "        'Win Rate': results['Win Rate']\n",
    "    } for name, results in strategy_results.items()\n",
    "}).T\n",
    "\n",
    "metrics_df.sort_values('Sharpe Ratio', ascending=False).head(10)"
   ]
  },
  {
   "cell_type": "code",
   "execution_count": null,
   "metadata": {},
   "outputs": [],
   "source": [
    "# Plot cumulative returns for the best strategies\n",
    "plt.figure(figsize=(15, 7))\n",
    "\n",
    "# Sort strategies by Sharpe ratio\n",
    "top_strategies = metrics_df.sort_values('Sharpe Ratio', ascending=False).head(3).index\n",
    "\n",
    "for strategy_name in top_strategies:\n",
    "    returns = strategy_results[strategy_name]['Returns']\n",
    "    plt.plot(returns.cumsum(), label=strategy_name)\n",
    "\n",
    "plt.title('Cumulative Returns of Top Volume Imbalance Strategies')\n",
    "plt.legend()\n",
    "plt.grid(True)\n",
    "plt.show()"
   ]
  },
  {
   "cell_type": "markdown",
   "metadata": {},
   "source": [
    "## 9. Conclusion\n",
    "\n",
    "In this notebook, we've analyzed volume imbalance events in the Squid_Ink data and developed trading strategies based on these events. We've used only the first 20,000 timestamps (in-sample data) for our analysis.\n",
    "\n",
    "Key findings:\n",
    "1. Volume imbalance events occur with varying frequencies and magnitudes\n",
    "2. There are patterns in post-event returns that can be exploited for trading\n",
    "3. The best strategy appears to be [to be filled after running]\n",
    "\n",
    "In future analyses, we could explore combining volume imbalance events with price spike events to develop more robust trading strategies."
   ]
  }
 ],
 "metadata": {
  "kernelspec": {
   "display_name": "Python 3",
   "language": "python",
   "name": "python3"
  },
  "language_info": {
   "codemirror_mode": {
    "name": "ipython",
    "version": 3
   },
   "file_extension": ".py",
   "mimetype": "text/x-python",
   "name": "python",
   "nbconvert_exporter": "python",
   "pygments_lexer": "ipython3",
   "version": "3.8.5"
  }
 },
 "nbformat": 4,
 "nbformat_minor": 4
}
