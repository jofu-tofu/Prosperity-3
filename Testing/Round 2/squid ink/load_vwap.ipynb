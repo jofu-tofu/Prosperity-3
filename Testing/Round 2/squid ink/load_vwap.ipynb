{
 "cells": [
  {
   "cell_type": "markdown",
   "metadata": {},
   "source": [
    "# Loading and Calculating VWAP for Squid Ink - Round 2\n",
    "\n",
    "This notebook focuses on loading Squid Ink data and calculating VWAP (Volume-Weighted Average Price)."
   ]
  },
  {
   "cell_type": "code",
   "execution_count": null,
   "metadata": {},
   "source": [
    "# Import necessary libraries\n",
    "import sys\n",
    "import os\n",
    "import numpy as np\n",
    "import pandas as pd\n",
    "import matplotlib.pyplot as plt\n",
    "\n",
    "# Add parent directories to path for imports\n",
    "sys.path.append(os.path.abspath('../'))\n",
    "sys.path.append(os.path.abspath('../../'))\n",
    "sys.path.append(os.path.abspath('../../../'))\n",
    "\n",
    "# Import utility functions\n",
    "from squid_utils import load_squid_data, calculate_vwap, plot_price_series, print_statistics\n",
    "\n",
    "# Configure plots to be larger and more readable\n",
    "plt.rcParams['figure.figsize'] = (12, 6)\n",
    "plt.rcParams['font.size'] = 12"
   ]
  },
  {
   "cell_type": "markdown",
   "metadata": {},
   "source": [
    "## 1. Load Squid Ink Data\n",
    "\n",
    "First, let's load the Squid Ink price data for Round 2."
   ]
  },
  {
   "cell_type": "code",
   "execution_count": null,
   "metadata": {},
   "source": [
    "# Load Squid Ink data for Round 2\n",
    "prices = load_squid_data(round_num=2)\n",
    "\n",
    "# Display the first few rows\n",
    "prices.head()"
   ]
  },
  {
   "cell_type": "markdown",
   "metadata": {},
   "source": [
    "## 2. Calculate VWAP\n",
    "\n",
    "Now, let's calculate the Volume-Weighted Average Price (VWAP) for Squid Ink."
   ]
  },
  {
   "cell_type": "code",
   "execution_count": null,
   "metadata": {},
   "source": [
    "# Calculate VWAP\n",
    "squid_vwap = calculate_vwap(prices)\n",
    "\n",
    "# Display basic statistics\n",
    "print_statistics(squid_vwap, \"VWAP\")"
   ]
  },
  {
   "cell_type": "markdown",
   "metadata": {},
   "source": [
    "## 3. Visualize VWAP\n",
    "\n",
    "Let's visualize the VWAP over time."
   ]
  },
  {
   "cell_type": "code",
   "execution_count": null,
   "metadata": {},
   "source": [
    "# Plot VWAP over time\n",
    "plot_price_series(squid_vwap, 'Squid Ink VWAP Over Time - Round 2', ylabel='VWAP')"
   ]
  },
  {
   "cell_type": "markdown",
   "metadata": {},
   "source": [
    "## 4. Save VWAP Data\n",
    "\n",
    "Let's save the VWAP data for future use."
   ]
  },
  {
   "cell_type": "code",
   "execution_count": null,
   "metadata": {},
   "source": [
    "# Create a DataFrame with the VWAP data\n",
    "vwap_df = pd.DataFrame(squid_vwap)\n",
    "vwap_df.columns = ['vwap']\n",
    "\n",
    "# Save to CSV\n",
    "output_dir = '../data'\n",
    "os.makedirs(output_dir, exist_ok=True)\n",
    "output_file = os.path.join(output_dir, 'squid_vwap_round2.csv')\n",
    "vwap_df.to_csv(output_file)\n",
    "print(f\"VWAP data saved to {output_file}\")"
   ]
  },
  {
   "cell_type": "markdown",
   "metadata": {},
   "source": [
    "## 5. Summary\n",
    "\n",
    "In this notebook, we have:\n",
    "1. Loaded Squid Ink price data for Round 2\n",
    "2. Calculated the Volume-Weighted Average Price (VWAP)\n",
    "3. Visualized the VWAP over time\n",
    "4. Saved the VWAP data for future use\n",
    "\n",
    "This data can now be used for further analysis and trading strategy development."
   ]
  }
 ],
 "metadata": {
  "kernelspec": {
   "display_name": "Python 3",
   "language": "python",
   "name": "python3"
  },
  "language_info": {
   "codemirror_mode": {
    "name": "ipython",
    "version": 3
   },
   "file_extension": ".py",
   "mimetype": "text/x-python",
   "name": "python",
   "nbconvert_exporter": "python",
   "pygments_lexer": "ipython3",
   "version": "3.8.8"
  }
 },
 "nbformat": 4,
 "nbformat_minor": 4
}
