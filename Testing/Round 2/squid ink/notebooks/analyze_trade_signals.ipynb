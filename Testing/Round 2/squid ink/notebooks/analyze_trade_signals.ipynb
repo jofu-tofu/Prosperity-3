{
 "cells": [
  {
   "cell_type": "markdown",
   "metadata": {},
   "source": [
    "# Analyzing Trade History Signals for Squid Ink - Round 2\n",
    "\n",
    "This notebook analyzes the trade history data for Squid Ink in Round 2 to look for potential trading signals."
   ]
  },
  {
   "cell_type": "code",
   "execution_count": null,
   "metadata": {},
   "outputs": [],
   "source": [
    "# Import necessary libraries\n",
    "import sys\n",
    "import os\n",
    "import numpy as np\n",
    "import pandas as pd\n",
    "import matplotlib.pyplot as plt\n",
    "\n",
    "# Add parent directories to path for imports\n",
    "sys.path.append(os.path.abspath('../'))\n",
    "from trade_utils import (\n",
    "    load_all_trade_data, filter_product_trades, calculate_trade_volume,\n",
    "    calculate_trade_value, calculate_vwap_from_trades, plot_trade_prices,\n",
    "    plot_trade_quantities, plot_trade_volume, plot_trade_value, plot_vwap,\n",
    "    analyze_trade_direction, analyze_trade_size_distribution, analyze_trade_price_distribution\n",
    ")\n",
    "\n",
    "# Configure plots to be larger and more readable\n",
    "plt.rcParams['figure.figsize'] = (12, 6)\n",
    "plt.rcParams['font.size'] = 12\n",
    "\n",
    "# Try to import seaborn for better styling\n",
    "try:\n",
    "    import seaborn as sns\n",
    "    sns.set(style=\"whitegrid\")\n",
    "    print(\"Using Seaborn for plot styling\")\n",
    "except ImportError:\n",
    "    print(\"Seaborn not available, using matplotlib default styling\")"
   ]
  },
  {
   "cell_type": "markdown",
   "metadata": {},
   "source": [
    "## 1. Load Trade History Data\n",
    "\n",
    "First, let's load the trade history data for Round 2 and filter for Squid Ink trades."
   ]
  },
  {
   "cell_type": "code",
   "execution_count": null,
   "metadata": {},
   "outputs": [],
   "source": [
    "# Load all trade data for Round 2\n",
    "trades = load_all_trade_data(2)\n",
    "\n",
    "# Filter for Squid Ink trades\n",
    "squid_trades = filter_product_trades(trades, 'SQUID_INK')\n",
    "\n",
    "# Display the first few rows\n",
    "squid_trades.head()"
   ]
  },
  {
   "cell_type": "markdown",
   "metadata": {},
   "source": [
    "## 2. Analyze Trade Volume and Value\n",
    "\n",
    "Let's analyze the trade volume and value over time to look for patterns."
   ]
  },
  {
   "cell_type": "code",
   "execution_count": null,
   "metadata": {},
   "outputs": [],
   "source": [
    "# Calculate trade volume in 5-minute windows\n",
    "squid_trades_indexed = squid_trades.set_index('timestamp')\n",
    "volume_5min = calculate_trade_volume(squid_trades_indexed, time_window='5min')\n",
    "\n",
    "# Plot trade volume\n",
    "plot_trade_volume(volume_5min, title='Squid Ink Trade Volume (5-minute windows) - Round 2')"
   ]
  },
  {
   "cell_type": "code",
   "execution_count": null,
   "metadata": {},
   "outputs": [],
   "source": [
    "# Calculate trade value in 5-minute windows\n",
    "value_5min = calculate_trade_value(squid_trades_indexed, time_window='5min')\n",
    "\n",
    "# Plot trade value\n",
    "plot_trade_value(value_5min, title='Squid Ink Trade Value (5-minute windows) - Round 2')"
   ]
  },
  {
   "cell_type": "markdown",
   "metadata": {},
   "source": [
    "## 3. Calculate VWAP from Trade History\n",
    "\n",
    "Let's calculate the Volume-Weighted Average Price (VWAP) from the trade history data."
   ]
  },
  {
   "cell_type": "code",
   "execution_count": null,
   "metadata": {},
   "outputs": [],
   "source": [
    "# Calculate VWAP from trade history in 5-minute windows\n",
    "vwap_5min = calculate_vwap_from_trades(squid_trades_indexed, time_window='5min')\n",
    "\n",
    "# Plot VWAP\n",
    "plot_vwap(vwap_5min, title='Squid Ink VWAP from Trade History (5-minute windows) - Round 2')"
   ]
  },
  {
   "cell_type": "markdown",
   "metadata": {},
   "source": [
    "## 4. Analyze Trade Direction\n",
    "\n",
    "Let's analyze the direction of trades (buy/sell) to look for patterns."
   ]
  },
  {
   "cell_type": "code",
   "execution_count": null,
   "metadata": {},
   "outputs": [],
   "source": [
    "# Analyze trade direction\n",
    "direction_counts = analyze_trade_direction(squid_trades)\n",
    "\n",
    "# Plot trade direction distribution\n",
    "plt.figure(figsize=(10, 6))\n",
    "direction_counts.plot(kind='bar')\n",
    "plt.title('Squid Ink Trade Direction Distribution - Round 2')\n",
    "plt.xlabel('Direction')\n",
    "plt.ylabel('Count')\n",
    "plt.grid(True)\n",
    "plt.tight_layout()\n",
    "plt.show()"
   ]
  },
  {
   "cell_type": "markdown",
   "metadata": {},
   "source": [
    "## 5. Analyze Trade Imbalance Over Time\n",
    "\n",
    "Let's calculate and visualize the trade imbalance (buy volume - sell volume) over time."
   ]
  },
  {
   "cell_type": "code",
   "execution_count": null,
   "metadata": {},
   "outputs": [],
   "source": [
    "# Create a copy of the dataframe with timestamp as index\n",
    "squid_trades_copy = squid_trades.copy()\n",
    "if squid_trades_copy.index.name != 'timestamp':\n",
    "    squid_trades_copy.set_index('timestamp', inplace=True)\n",
    "\n",
    "# Calculate trade imbalance in 5-minute windows\n",
    "squid_trades_copy['imbalance'] = squid_trades_copy['quantity']\n",
    "imbalance_5min = squid_trades_copy['imbalance'].resample('5min').sum()\n",
    "\n",
    "# Plot trade imbalance\n",
    "plt.figure(figsize=(14, 7))\n",
    "plt.plot(imbalance_5min.index, imbalance_5min.values)\n",
    "plt.title('Squid Ink Trade Imbalance (5-minute windows) - Round 2')\n",
    "plt.xlabel('Timestamp')\n",
    "plt.ylabel('Imbalance (Buy - Sell Volume)')\n",
    "plt.axhline(y=0, color='r', linestyle='-', alpha=0.3)\n",
    "plt.grid(True)\n",
    "plt.tight_layout()\n",
    "plt.show()"
   ]
  },
  {
   "cell_type": "markdown",
   "metadata": {},
   "source": [
    "## 6. Analyze Relationship Between Trade Imbalance and Price Movement\n",
    "\n",
    "Let's analyze the relationship between trade imbalance and subsequent price movements."
   ]
  },
  {
   "cell_type": "code",
   "execution_count": null,
   "metadata": {},
   "outputs": [],
   "source": [
    "# Calculate VWAP from trades in 1-minute windows\n",
    "vwap_1min = calculate_vwap_from_trades(squid_trades_indexed, time_window='1min')\n",
    "\n",
    "# Calculate trade imbalance in 1-minute windows\n",
    "imbalance_1min = squid_trades_copy['imbalance'].resample('1min').sum()\n",
    "\n",
    "# Calculate price changes\n",
    "vwap_changes = vwap_1min.pct_change().shift(-1)  # Next period's price change\n",
    "\n",
    "# Combine imbalance and price changes\n",
    "combined = pd.DataFrame({\n",
    "    'imbalance': imbalance_1min,\n",
    "    'price_change': vwap_changes\n",
    "})\n",
    "\n",
    "# Drop rows with NaN values\n",
    "combined = combined.dropna()\n",
    "\n",
    "# Plot relationship between imbalance and price change\n",
    "plt.figure(figsize=(10, 6))\n",
    "plt.scatter(combined['imbalance'], combined['price_change'], alpha=0.5)\n",
    "plt.title('Relationship Between Trade Imbalance and Subsequent Price Change')\n",
    "plt.xlabel('Trade Imbalance (1-minute window)')\n",
    "plt.ylabel('Subsequent Price Change')\n",
    "plt.grid(True)\n",
    "plt.tight_layout()\n",
    "plt.show()\n",
    "\n",
    "# Calculate correlation\n",
    "correlation = combined['imbalance'].corr(combined['price_change'])\n",
    "print(f\"Correlation between trade imbalance and subsequent price change: {correlation:.4f}\")"
   ]
  },
  {
   "cell_type": "markdown",
   "metadata": {},
   "source": [
    "## 7. Analyze Large Trades\n",
    "\n",
    "Let's identify and analyze large trades to see if they have predictive power for future price movements."
   ]
  },
  {
   "cell_type": "code",
   "execution_count": null,
   "metadata": {},
   "outputs": [],
   "source": [
    "# Calculate absolute trade size\n",
    "squid_trades_copy['abs_quantity'] = squid_trades_copy['quantity'].abs()\n",
    "\n",
    "# Define large trades (e.g., top 5% by size)\n",
    "large_trade_threshold = squid_trades_copy['abs_quantity'].quantile(0.95)\n",
    "large_trades = squid_trades_copy[squid_trades_copy['abs_quantity'] >= large_trade_threshold].copy()\n",
    "\n",
    "print(f\"Large trade threshold (95th percentile): {large_trade_threshold}\")\n",
    "print(f\"Number of large trades: {len(large_trades)}\")\n",
    "print(f\"Percentage of all trades: {len(large_trades) / len(squid_trades_copy) * 100:.2f}%\")\n",
    "\n",
    "# Plot large trades\n",
    "plt.figure(figsize=(14, 7))\n",
    "plt.scatter(large_trades.index, large_trades['price'], \n",
    "            s=large_trades['abs_quantity']/10, alpha=0.6, \n",
    "            c=large_trades['quantity'] > 0, cmap='coolwarm')\n",
    "plt.title('Large Squid Ink Trades - Round 2')\n",
    "plt.xlabel('Timestamp')\n",
    "plt.ylabel('Price')\n",
    "plt.colorbar(label='Direction (Blue=Sell, Red=Buy)')\n",
    "plt.grid(True)\n",
    "plt.tight_layout()\n",
    "plt.show()"
   ]
  },
  {
   "cell_type": "markdown",
   "metadata": {},
   "source": [
    "## 8. Analyze Price Impact of Large Trades\n",
    "\n",
    "Let's analyze the price impact of large trades by looking at price movements before and after large trades."
   ]
  },
  {
   "cell_type": "code",
   "execution_count": null,
   "metadata": {},
   "outputs": [],
   "source": [
    "# Function to calculate price changes around large trades\n",
    "def calculate_price_impact(large_trades_df, all_trades_df, window_minutes=5):\n",
    "    \"\"\"Calculate price changes before and after large trades.\"\"\"\n",
    "    # Ensure both dataframes have timestamp as index\n",
    "    if large_trades_df.index.name != 'timestamp':\n",
    "        large_trades_df = large_trades_df.set_index('timestamp')\n",
    "    if all_trades_df.index.name != 'timestamp':\n",
    "        all_trades_df = all_trades_df.set_index('timestamp')\n",
    "    \n",
    "    # Calculate VWAP in 1-minute windows\n",
    "    vwap_1min = calculate_vwap_from_trades(all_trades_df, time_window='1min')\n",
    "    \n",
    "    # Initialize lists to store results\n",
    "    before_changes = []\n",
    "    after_changes = []\n",
    "    directions = []\n",
    "    \n",
    "    # Loop through each large trade\n",
    "    for timestamp in large_trades_df.index:\n",
    "        # Get trade direction\n",
    "        direction = 'buy' if large_trades_df.loc[timestamp, 'quantity'] > 0 else 'sell'\n",
    "        directions.append(direction)\n",
    "        \n",
    "        # Find closest VWAP timestamps before and after the trade\n",
    "        before_timestamp = vwap_1min.index[vwap_1min.index < timestamp][-window_minutes:]\n",
    "        after_timestamp = vwap_1min.index[vwap_1min.index > timestamp][:window_minutes]\n",
    "        \n",
    "        if len(before_timestamp) > 0 and len(after_timestamp) > 0:\n",
    "            # Calculate price change before the trade\n",
    "            before_price = vwap_1min.loc[before_timestamp[0]]\n",
    "            trade_price = vwap_1min.loc[vwap_1min.index[vwap_1min.index >= timestamp][0]]\n",
    "            before_change = (trade_price - before_price) / before_price\n",
    "            before_changes.append(before_change)\n",
    "            \n",
    "            # Calculate price change after the trade\n",
    "            after_price = vwap_1min.loc[after_timestamp[-1]]\n",
    "            after_change = (after_price - trade_price) / trade_price\n",
    "            after_changes.append(after_change)\n",
    "    \n",
    "    # Create a DataFrame with the results\n",
    "    impact_df = pd.DataFrame({\n",
    "        'direction': directions,\n",
    "        'before_change': before_changes,\n",
    "        'after_change': after_changes\n",
    "    })\n",
    "    \n",
    "    return impact_df\n",
    "\n",
    "# Calculate price impact of large trades\n",
    "impact_df = calculate_price_impact(large_trades, squid_trades_copy, window_minutes=5)\n",
    "\n",
    "# Display summary statistics\n",
    "print(\"Price Impact of Large Trades:\")\n",
    "print(\"\\nBefore large trades:\")\n",
    "print(impact_df['before_change'].describe())\n",
    "print(\"\\nAfter large trades:\")\n",
    "print(impact_df['after_change'].describe())\n",
    "\n",
    "# Group by direction and calculate average price changes\n",
    "direction_impact = impact_df.groupby('direction')[['before_change', 'after_change']].mean()\n",
    "print(\"\\nAverage price changes by direction:\")\n",
    "print(direction_impact)\n",
    "\n",
    "# Plot price impact by direction\n",
    "plt.figure(figsize=(10, 6))\n",
    "direction_impact.plot(kind='bar')\n",
    "plt.title('Average Price Impact of Large Trades by Direction')\n",
    "plt.xlabel('Trade Direction')\n",
    "plt.ylabel('Average Price Change')\n",
    "plt.grid(True)\n",
    "plt.tight_layout()\n",
    "plt.show()"
   ]
  },
  {
   "cell_type": "markdown",
   "metadata": {},
   "source": [
    "## 9. Analyze Trade Frequency and Clustering\n",
    "\n",
    "Let's analyze the frequency of trades and look for clustering patterns."
   ]
  },
  {
   "cell_type": "code",
   "execution_count": null,
   "metadata": {},
   "outputs": [],
   "source": [
    "# Calculate trade frequency in 1-minute windows\n",
    "trade_counts = squid_trades_copy.resample('1min').size()\n",
    "\n",
    "# Plot trade frequency\n",
    "plt.figure(figsize=(14, 7))\n",
    "plt.plot(trade_counts.index, trade_counts.values)\n",
    "plt.title('Squid Ink Trade Frequency (1-minute windows) - Round 2')\n",
    "plt.xlabel('Timestamp')\n",
    "plt.ylabel('Number of Trades')\n",
    "plt.grid(True)\n",
    "plt.tight_layout()\n",
    "plt.show()\n",
    "\n",
    "# Calculate correlation between trade frequency and price volatility\n",
    "vwap_1min_returns = vwap_1min.pct_change()\n",
    "vwap_1min_volatility = vwap_1min_returns.rolling(window=5).std()\n",
    "\n",
    "# Combine trade frequency and volatility\n",
    "freq_vol = pd.DataFrame({\n",
    "    'frequency': trade_counts,\n",
    "    'volatility': vwap_1min_volatility\n",
    "})\n",
    "freq_vol = freq_vol.dropna()\n",
    "\n",
    "# Calculate correlation\n",
    "freq_vol_corr = freq_vol['frequency'].corr(freq_vol['volatility'])\n",
    "print(f\"Correlation between trade frequency and price volatility: {freq_vol_corr:.4f}\")\n",
    "\n",
    "# Plot relationship between trade frequency and volatility\n",
    "plt.figure(figsize=(10, 6))\n",
    "plt.scatter(freq_vol['frequency'], freq_vol['volatility'], alpha=0.5)\n",
    "plt.title('Relationship Between Trade Frequency and Price Volatility')\n",
    "plt.xlabel('Number of Trades (1-minute window)')\n",
    "plt.ylabel('Price Volatility (5-minute rolling std of returns)')\n",
    "plt.grid(True)\n",
    "plt.tight_layout()\n",
    "plt.show()"
   ]
  },
  {
   "cell_type": "markdown",
   "metadata": {},
   "source": [
    "## 10. Summary of Findings\n",
    "\n",
    "Let's summarize our findings from the trade history analysis."
   ]
  },
  {
   "cell_type": "code",
   "execution_count": null,
   "metadata": {},
   "outputs": [],
   "source": [
    "# Print summary of findings\n",
    "print(\"Summary of Trade History Analysis for Squid Ink - Round 2:\\n\")\n",
    "\n",
    "print(f\"1. Total number of trades: {len(squid_trades)}\")\n",
    "print(f\"2. Correlation between trade imbalance and subsequent price change: {correlation:.4f}\")\n",
    "print(f\"3. Correlation between trade frequency and price volatility: {freq_vol_corr:.4f}\")\n",
    "\n",
    "print(\"\\n4. Price Impact of Large Trades:\")\n",
    "print(direction_impact)\n",
    "\n",
    "print(\"\\n5. Trade Direction Distribution:\")\n",
    "for direction, count in direction_counts.items():\n",
    "    print(f\"   {direction.capitalize()}: {count} ({count / len(squid_trades) * 100:.2f}%)\")\n",
    "\n",
    "# Identify potential signals\n",
    "print(\"\\nPotential Trading Signals from Trade History:\")\n",
    "\n",
    "if abs(correlation) > 0.1:\n",
    "    print(f\"- Trade imbalance shows {correlation:.4f} correlation with subsequent price changes\")\n",
    "    if correlation > 0:\n",
    "        print(\"  Signal: Buy when there's positive trade imbalance (more buys than sells)\")\n",
    "    else:\n",
    "        print(\"  Signal: Buy when there's negative trade imbalance (more sells than buys)\")\n",
    "\n",
    "if abs(freq_vol_corr) > 0.1:\n",
    "    print(f\"- Trade frequency shows {freq_vol_corr:.4f} correlation with price volatility\")\n",
    "    print(\"  Signal: Higher trade frequency may indicate upcoming volatility\")\n",
    "\n",
    "# Check if large buys predict price increases\n",
    "if 'buy' in direction_impact.index and direction_impact.loc['buy', 'after_change'] > 0:\n",
    "    print(f\"- Large buy trades are followed by average price increases of {direction_impact.loc['buy', 'after_change']*100:.2f}%\")\n",
    "    print(\"  Signal: Consider buying after observing large buy trades\")\n",
    "\n",
    "# Check if large sells predict price decreases\n",
    "if 'sell' in direction_impact.index and direction_impact.loc['sell', 'after_change'] < 0:\n",
    "    print(f\"- Large sell trades are followed by average price decreases of {direction_impact.loc['sell', 'after_change']*100:.2f}%\")\n",
    "    print(\"  Signal: Consider selling after observing large sell trades\")"
   ]
  },
  {
   "cell_type": "markdown",
   "metadata": {},
   "source": [
    "## 11. Save Processed Data for Future Use\n",
    "\n",
    "Let's save the processed data for future use."
   ]
  },
  {
   "cell_type": "code",
   "execution_count": null,
   "metadata": {},
   "outputs": [],
   "source": [
    "# Create output directory if it doesn't exist\n",
    "output_dir = '../data'\n",
    "os.makedirs(output_dir, exist_ok=True)\n",
    "\n",
    "# Save trade imbalance data\n",
    "imbalance_5min.to_csv(os.path.join(output_dir, 'squid_trade_imbalance_5min.csv'))\n",
    "print(f\"Trade imbalance data saved to {os.path.join(output_dir, 'squid_trade_imbalance_5min.csv')}\")\n",
    "\n",
    "# Save VWAP data\n",
    "vwap_5min.to_csv(os.path.join(output_dir, 'squid_trade_vwap_5min.csv'))\n",
    "print(f\"VWAP data saved to {os.path.join(output_dir, 'squid_trade_vwap_5min.csv')}\")\n",
    "\n",
    "# Save large trades data\n",
    "large_trades.to_csv(os.path.join(output_dir, 'squid_large_trades.csv'))\n",
    "print(f\"Large trades data saved to {os.path.join(output_dir, 'squid_large_trades.csv')}\")"
   ]
  }
 ],
 "metadata": {
  "kernelspec": {
   "display_name": "prosperity",
   "language": "python",
   "name": "python3"
  },
  "language_info": {
   "codemirror_mode": {
    "name": "ipython",
    "version": 3
   },
   "file_extension": ".py",
   "mimetype": "text/x-python",
   "name": "python",
   "nbconvert_exporter": "python",
   "pygments_lexer": "ipython3",
   "version": "3.11.8"
  }
 },
 "nbformat": 4,
 "nbformat_minor": 4
}
