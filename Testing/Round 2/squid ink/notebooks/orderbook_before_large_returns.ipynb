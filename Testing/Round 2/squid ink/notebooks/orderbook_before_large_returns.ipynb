{
 "cells": [
  {
   "cell_type": "markdown",
   "metadata": {},
   "source": [
    "# Analyzing Orderbooks Before Large Returns - Squid Ink Round 2\n",
    "\n",
    "This notebook analyzes the state of the orderbook right before large changes in returns for Squid Ink in Round 2. The goal is to identify potential predictive patterns in the orderbook that might signal upcoming large price movements."
   ]
  },
  {
   "cell_type": "code",
   "execution_count": null,
   "metadata": {},
   "source": [
    "# Import necessary libraries\n",
    "import sys\n",
    "import os\n",
    "import numpy as np\n",
    "import pandas as pd\n",
    "import matplotlib.pyplot as plt\n",
    "\n",
    "# Configure plots to be larger and more readable\n",
    "plt.rcParams['figure.figsize'] = (12, 6)\n",
    "plt.rcParams['font.size'] = 12\n",
    "\n",
    "# Try to import seaborn for better styling\n",
    "try:\n",
    "    import seaborn as sns\n",
    "    sns.set(style=\"whitegrid\")\n",
    "    print(\"Using Seaborn for plot styling\")\n",
    "except ImportError:\n",
    "    print(\"Seaborn not available, using matplotlib default styling\")"
   ]
  },
  {
   "cell_type": "markdown",
   "metadata": {},
   "source": [
    "## Section 1: Load Price Data and Calculate Returns\n",
    "\n",
    "First, we need to load the price data for Squid Ink and calculate returns to identify periods with large price movements."
   ]
  },
  {
   "cell_type": "code",
   "execution_count": null,
   "metadata": {},
   "source": [
    "def load_price_data(round_num, product='SQUID_INK'):\n",
    "    \"\"\"\n",
    "    Load price data for a specific round and product.\n",
    "    \n",
    "    Parameters:\n",
    "        round_num (int): Round number\n",
    "        product (str): Product name (default: 'SQUID_INK')\n",
    "        \n",
    "    Returns:\n",
    "        pd.DataFrame: DataFrame containing price data\n",
    "    \"\"\"\n",
    "    # Path to data directory - try multiple possible locations\n",
    "    possible_data_paths = [\n",
    "        '../../../Prosperity 3 Data',\n",
    "        '../../../../Prosperity 3 Data',\n",
    "        '../../../../../Prosperity 3 Data',\n",
    "        'Prosperity 3 Data'\n",
    "    ]\n",
    "    \n",
    "    # Find the first valid data path\n",
    "    data_path = None\n",
    "    for path in possible_data_paths:\n",
    "        if os.path.exists(path):\n",
    "            data_path = path\n",
    "            print(f\"Found data directory at {path}\")\n",
    "            break\n",
    "    \n",
    "    if data_path is None:\n",
    "        print(\"Could not find data directory\")\n",
    "        return pd.DataFrame()\n",
    "    \n",
    "    # List all CSV files for the round\n",
    "    import glob\n",
    "    file_pattern = os.path.join(data_path, f'Round {round_num}/prices_round_{round_num}_day_*.csv')\n",
    "    files = glob.glob(file_pattern)\n",
    "    \n",
    "    if not files:\n",
    "        print(f\"No files found matching pattern: {file_pattern}\")\n",
    "        return pd.DataFrame()\n",
    "    \n",
    "    # Load and concatenate all files\n",
    "    dfs = []\n",
    "    for file in files:\n",
    "        print(f\"Loading {file}...\")\n",
    "        df = pd.read_csv(file, sep=';')\n",
    "        dfs.append(df)\n",
    "    \n",
    "    # Concatenate all dataframes\n",
    "    all_data = pd.concat(dfs, ignore_index=True)\n",
    "    \n",
    "    # Filter for the specified product\n",
    "    product_data = all_data[all_data['product'] == product].copy()\n",
    "    print(f\"Successfully loaded price data with {len(product_data)} rows\")\n",
    "    \n",
    "    return product_data"
   ]
  },
  {
   "cell_type": "code",
   "execution_count": null,
   "metadata": {},
   "source": [
    "# Load Squid Ink price data for Round 2\n",
    "squid_data = load_price_data(2, 'SQUID_INK')\n",
    "\n",
    "# Display the first few rows\n",
    "squid_data.head()"
   ]
  },
  {
   "cell_type": "code",
   "execution_count": null,
   "metadata": {},
   "source": [
    "# Check the columns in the dataframe\n",
    "print(\"Columns in the price data:\")\n",
    "squid_data.columns"
   ]
  },
  {
   "cell_type": "code",
   "execution_count": null,
   "metadata": {},
   "source": [
    "# Calculate mid price\n",
    "squid_data['mid_price'] = (squid_data['ask_price_1'] + squid_data['bid_price_1']) / 2\n",
    "\n",
    "# Sort by timestamp to ensure proper return calculation\n",
    "squid_data = squid_data.sort_values('timestamp')\n",
    "\n",
    "# Calculate returns\n",
    "squid_data['returns'] = squid_data['mid_price'].pct_change()\n",
    "\n",
    "# Calculate absolute returns\n",
    "squid_data['abs_returns'] = squid_data['returns'].abs()\n",
    "\n",
    "# Display summary statistics of returns\n",
    "print(\"Summary statistics of returns:\")\n",
    "squid_data['returns'].describe()"
   ]
  },
  {
   "cell_type": "code",
   "execution_count": null,
   "metadata": {},
   "source": [
    "# Plot the distribution of returns\n",
    "plt.figure(figsize=(12, 6))\n",
    "plt.hist(squid_data['returns'].dropna(), bins=100, alpha=0.7)\n",
    "plt.title('Distribution of Squid Ink Returns - Round 2')\n",
    "plt.xlabel('Returns')\n",
    "plt.ylabel('Frequency')\n",
    "plt.grid(True)\n",
    "plt.tight_layout()\n",
    "plt.show()"
   ]
  },
  {
   "cell_type": "code",
   "execution_count": null,
   "metadata": {},
   "source": [
    "# Define what constitutes a \"large\" return (e.g., top 1% of absolute returns)\n",
    "large_return_threshold = squid_data['abs_returns'].quantile(0.99)\n",
    "print(f\"Large return threshold (99th percentile): {large_return_threshold:.6f}\")\n",
    "\n",
    "# Identify timestamps with large returns\n",
    "large_return_indices = squid_data[squid_data['abs_returns'] >= large_return_threshold].index\n",
    "large_return_timestamps = squid_data.loc[large_return_indices, 'timestamp']\n",
    "\n",
    "print(f\"Number of large return events: {len(large_return_timestamps)}\")\n",
    "print(f\"Percentage of all observations: {len(large_return_timestamps) / len(squid_data) * 100:.2f}%\")"
   ]
  },
  {
   "cell_type": "code",
   "execution_count": null,
   "metadata": {},
   "source": [
    "# Plot mid price and highlight large return events\n",
    "plt.figure(figsize=(14, 7))\n",
    "plt.plot(squid_data['timestamp'], squid_data['mid_price'], alpha=0.7)\n",
    "plt.scatter(large_return_timestamps, \n",
    "            squid_data.loc[large_return_indices, 'mid_price'], \n",
    "            color='red', alpha=0.7, s=30)\n",
    "plt.title('Squid Ink Mid Price with Large Return Events Highlighted - Round 2')\n",
    "plt.xlabel('Timestamp')\n",
    "plt.ylabel('Mid Price')\n",
    "plt.grid(True)\n",
    "plt.tight_layout()\n",
    "plt.show()"
   ]
  }
 ],
 "metadata": {
  "kernelspec": {
   "display_name": "Python 3",
   "language": "python",
   "name": "python3"
  },
  "language_info": {
   "codemirror_mode": {
    "name": "ipython",
    "version": 3
   },
   "file_extension": ".py",
   "mimetype": "text/x-python",
   "name": "python",
   "nbconvert_exporter": "python",
   "pygments_lexer": "ipython3",
   "version": "3.8.8"
  }
 },
 "nbformat": 4,
 "nbformat_minor": 4
}
