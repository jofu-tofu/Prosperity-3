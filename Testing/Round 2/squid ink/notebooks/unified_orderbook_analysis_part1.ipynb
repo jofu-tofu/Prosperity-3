{
 "cells": [
  {
   "cell_type": "markdown",
   "metadata": {},
   "source": [
    "# Analyzing Orderbooks Before Large Returns - Squid Ink Round 2 (Part 1)\n",
    "\n",
    "This notebook analyzes the state of the orderbook right before large changes in returns for Squid Ink in Round 2. The goal is to identify potential predictive patterns in the orderbook that might signal upcoming large price movements.\n",
    "\n",
    "## Part 1: Load Data and Identify Large Return Events"
   ]
  },
  {
   "cell_type": "code",
   "execution_count": 1,
   "metadata": {},
   "outputs": [
    {
     "name": "stdout",
     "output_type": "stream",
     "text": [
      "Using Seaborn for plot styling\n"
     ]
    }
   ],
   "source": [
    "# Import necessary libraries\n",
    "import sys\n",
    "import os\n",
    "import numpy as np\n",
    "import pandas as pd\n",
    "import matplotlib.pyplot as plt\n",
    "\n",
    "# Configure plots to be larger and more readable\n",
    "plt.rcParams['figure.figsize'] = (12, 6)\n",
    "plt.rcParams['font.size'] = 12\n",
    "\n",
    "# Try to import seaborn for better styling\n",
    "try:\n",
    "    import seaborn as sns\n",
    "    sns.set(style=\"whitegrid\")\n",
    "    print(\"Using Seaborn for plot styling\")\n",
    "except ImportError:\n",
    "    print(\"Seaborn not available, using matplotlib default styling\")"
   ]
  },
  {
   "cell_type": "markdown",
   "metadata": {},
   "source": [
    "### 1.1 Define Function to Load Price Data"
   ]
  },
  {
   "cell_type": "code",
   "execution_count": 2,
   "metadata": {},
   "outputs": [],
   "source": [
    "def load_price_data(round_num, product='SQUID_INK'):\n",
    "    \"\"\"\n",
    "    Load price data for a specific round and product.\n",
    "    \n",
    "    Parameters:\n",
    "        round_num (int): Round number\n",
    "        product (str): Product name (default: 'SQUID_INK')\n",
    "        \n",
    "    Returns:\n",
    "        pd.DataFrame: DataFrame containing price data\n",
    "    \"\"\"\n",
    "    # Path to data directory - try multiple possible locations\n",
    "    possible_data_paths = [\n",
    "        '../../../Prosperity 3 Data',\n",
    "        '../../../../Prosperity 3 Data',\n",
    "        '../../../../../Prosperity 3 Data',\n",
    "        'Prosperity 3 Data'\n",
    "    ]\n",
    "    \n",
    "    # Find the first valid data path\n",
    "    data_path = None\n",
    "    for path in possible_data_paths:\n",
    "        if os.path.exists(path):\n",
    "            data_path = path\n",
    "            print(f\"Found data directory at {path}\")\n",
    "            break\n",
    "    \n",
    "    if data_path is None:\n",
    "        print(\"Could not find data directory\")\n",
    "        return pd.DataFrame()\n",
    "    \n",
    "    # List all CSV files for the round\n",
    "    import glob\n",
    "    file_pattern = os.path.join(data_path, f'Round {round_num}/prices_round_{round_num}_day_*.csv')\n",
    "    files = glob.glob(file_pattern)\n",
    "    \n",
    "    if not files:\n",
    "        print(f\"No files found matching pattern: {file_pattern}\")\n",
    "        return pd.DataFrame()\n",
    "    \n",
    "    # Load and concatenate all files\n",
    "    dfs = []\n",
    "    for file in files:\n",
    "        print(f\"Loading {file}...\")\n",
    "        df = pd.read_csv(file, sep=';')\n",
    "        dfs.append(df)\n",
    "    \n",
    "    # Concatenate all dataframes\n",
    "    all_data = pd.concat(dfs, ignore_index=True)\n",
    "    \n",
    "    # Filter for the specified product\n",
    "    product_data = all_data[all_data['product'] == product].copy()\n",
    "    print(f\"Successfully loaded price data with {len(product_data)} rows\")\n",
    "    \n",
    "    return product_data"
   ]
  },
  {
   "cell_type": "markdown",
   "metadata": {},
   "source": [
    "### 1.2 Load Squid Ink Price Data"
   ]
  },
  {
   "cell_type": "code",
   "execution_count": 3,
   "metadata": {},
   "outputs": [
    {
     "name": "stdout",
     "output_type": "stream",
     "text": [
      "Found data directory at ../../../../Prosperity 3 Data\n",
      "Loading ../../../../Prosperity 3 Data\\Round 2\\prices_round_2_day_-1.csv...\n",
      "Loading ../../../../Prosperity 3 Data\\Round 2\\prices_round_2_day_0.csv...\n",
      "Loading ../../../../Prosperity 3 Data\\Round 2\\prices_round_2_day_1.csv...\n",
      "Successfully loaded price data with 30000 rows\n"
     ]
    },
    {
     "data": {
      "application/vnd.microsoft.datawrangler.viewer.v0+json": {
       "columns": [
        {
         "name": "index",
         "rawType": "int64",
         "type": "integer"
        },
        {
         "name": "day",
         "rawType": "int64",
         "type": "integer"
        },
        {
         "name": "timestamp",
         "rawType": "int64",
         "type": "integer"
        },
        {
         "name": "product",
         "rawType": "object",
         "type": "string"
        },
        {
         "name": "bid_price_1",
         "rawType": "int64",
         "type": "integer"
        },
        {
         "name": "bid_volume_1",
         "rawType": "int64",
         "type": "integer"
        },
        {
         "name": "bid_price_2",
         "rawType": "float64",
         "type": "float"
        },
        {
         "name": "bid_volume_2",
         "rawType": "float64",
         "type": "float"
        },
        {
         "name": "bid_price_3",
         "rawType": "float64",
         "type": "float"
        },
        {
         "name": "bid_volume_3",
         "rawType": "float64",
         "type": "float"
        },
        {
         "name": "ask_price_1",
         "rawType": "int64",
         "type": "integer"
        },
        {
         "name": "ask_volume_1",
         "rawType": "int64",
         "type": "integer"
        },
        {
         "name": "ask_price_2",
         "rawType": "float64",
         "type": "float"
        },
        {
         "name": "ask_volume_2",
         "rawType": "float64",
         "type": "float"
        },
        {
         "name": "ask_price_3",
         "rawType": "float64",
         "type": "float"
        },
        {
         "name": "ask_volume_3",
         "rawType": "float64",
         "type": "float"
        },
        {
         "name": "mid_price",
         "rawType": "float64",
         "type": "float"
        },
        {
         "name": "profit_and_loss",
         "rawType": "float64",
         "type": "float"
        }
       ],
       "conversionMethod": "pd.DataFrame",
       "ref": "c7d911bc-e441-4c90-bf0a-18766e27ad12",
       "rows": [
        [
         "2",
         "-1",
         "0",
         "SQUID_INK",
         "2005",
         "1",
         "2002.0",
         "31.0",
         null,
         null,
         "2006",
         "31",
         null,
         null,
         null,
         null,
         "2005.5",
         "0.0"
        ],
        [
         "15",
         "-1",
         "100",
         "SQUID_INK",
         "2004",
         "24",
         null,
         null,
         null,
         null,
         "2007",
         "24",
         null,
         null,
         null,
         null,
         "2005.5",
         "0.0"
        ],
        [
         "21",
         "-1",
         "200",
         "SQUID_INK",
         "2003",
         "22",
         null,
         null,
         null,
         null,
         "2006",
         "20",
         null,
         null,
         null,
         null,
         "2004.5",
         "0.0"
        ],
        [
         "25",
         "-1",
         "300",
         "SQUID_INK",
         "2003",
         "31",
         null,
         null,
         null,
         null,
         "2006",
         "31",
         null,
         null,
         null,
         null,
         "2004.5",
         "0.0"
        ],
        [
         "34",
         "-1",
         "400",
         "SQUID_INK",
         "2004",
         "27",
         null,
         null,
         null,
         null,
         "2007",
         "27",
         null,
         null,
         null,
         null,
         "2005.5",
         "0.0"
        ]
       ],
       "shape": {
        "columns": 17,
        "rows": 5
       }
      },
      "text/html": [
       "<div>\n",
       "<style scoped>\n",
       "    .dataframe tbody tr th:only-of-type {\n",
       "        vertical-align: middle;\n",
       "    }\n",
       "\n",
       "    .dataframe tbody tr th {\n",
       "        vertical-align: top;\n",
       "    }\n",
       "\n",
       "    .dataframe thead th {\n",
       "        text-align: right;\n",
       "    }\n",
       "</style>\n",
       "<table border=\"1\" class=\"dataframe\">\n",
       "  <thead>\n",
       "    <tr style=\"text-align: right;\">\n",
       "      <th></th>\n",
       "      <th>day</th>\n",
       "      <th>timestamp</th>\n",
       "      <th>product</th>\n",
       "      <th>bid_price_1</th>\n",
       "      <th>bid_volume_1</th>\n",
       "      <th>bid_price_2</th>\n",
       "      <th>bid_volume_2</th>\n",
       "      <th>bid_price_3</th>\n",
       "      <th>bid_volume_3</th>\n",
       "      <th>ask_price_1</th>\n",
       "      <th>ask_volume_1</th>\n",
       "      <th>ask_price_2</th>\n",
       "      <th>ask_volume_2</th>\n",
       "      <th>ask_price_3</th>\n",
       "      <th>ask_volume_3</th>\n",
       "      <th>mid_price</th>\n",
       "      <th>profit_and_loss</th>\n",
       "    </tr>\n",
       "  </thead>\n",
       "  <tbody>\n",
       "    <tr>\n",
       "      <th>2</th>\n",
       "      <td>-1</td>\n",
       "      <td>0</td>\n",
       "      <td>SQUID_INK</td>\n",
       "      <td>2005</td>\n",
       "      <td>1</td>\n",
       "      <td>2002.0</td>\n",
       "      <td>31.0</td>\n",
       "      <td>NaN</td>\n",
       "      <td>NaN</td>\n",
       "      <td>2006</td>\n",
       "      <td>31</td>\n",
       "      <td>NaN</td>\n",
       "      <td>NaN</td>\n",
       "      <td>NaN</td>\n",
       "      <td>NaN</td>\n",
       "      <td>2005.5</td>\n",
       "      <td>0.0</td>\n",
       "    </tr>\n",
       "    <tr>\n",
       "      <th>15</th>\n",
       "      <td>-1</td>\n",
       "      <td>100</td>\n",
       "      <td>SQUID_INK</td>\n",
       "      <td>2004</td>\n",
       "      <td>24</td>\n",
       "      <td>NaN</td>\n",
       "      <td>NaN</td>\n",
       "      <td>NaN</td>\n",
       "      <td>NaN</td>\n",
       "      <td>2007</td>\n",
       "      <td>24</td>\n",
       "      <td>NaN</td>\n",
       "      <td>NaN</td>\n",
       "      <td>NaN</td>\n",
       "      <td>NaN</td>\n",
       "      <td>2005.5</td>\n",
       "      <td>0.0</td>\n",
       "    </tr>\n",
       "    <tr>\n",
       "      <th>21</th>\n",
       "      <td>-1</td>\n",
       "      <td>200</td>\n",
       "      <td>SQUID_INK</td>\n",
       "      <td>2003</td>\n",
       "      <td>22</td>\n",
       "      <td>NaN</td>\n",
       "      <td>NaN</td>\n",
       "      <td>NaN</td>\n",
       "      <td>NaN</td>\n",
       "      <td>2006</td>\n",
       "      <td>20</td>\n",
       "      <td>NaN</td>\n",
       "      <td>NaN</td>\n",
       "      <td>NaN</td>\n",
       "      <td>NaN</td>\n",
       "      <td>2004.5</td>\n",
       "      <td>0.0</td>\n",
       "    </tr>\n",
       "    <tr>\n",
       "      <th>25</th>\n",
       "      <td>-1</td>\n",
       "      <td>300</td>\n",
       "      <td>SQUID_INK</td>\n",
       "      <td>2003</td>\n",
       "      <td>31</td>\n",
       "      <td>NaN</td>\n",
       "      <td>NaN</td>\n",
       "      <td>NaN</td>\n",
       "      <td>NaN</td>\n",
       "      <td>2006</td>\n",
       "      <td>31</td>\n",
       "      <td>NaN</td>\n",
       "      <td>NaN</td>\n",
       "      <td>NaN</td>\n",
       "      <td>NaN</td>\n",
       "      <td>2004.5</td>\n",
       "      <td>0.0</td>\n",
       "    </tr>\n",
       "    <tr>\n",
       "      <th>34</th>\n",
       "      <td>-1</td>\n",
       "      <td>400</td>\n",
       "      <td>SQUID_INK</td>\n",
       "      <td>2004</td>\n",
       "      <td>27</td>\n",
       "      <td>NaN</td>\n",
       "      <td>NaN</td>\n",
       "      <td>NaN</td>\n",
       "      <td>NaN</td>\n",
       "      <td>2007</td>\n",
       "      <td>27</td>\n",
       "      <td>NaN</td>\n",
       "      <td>NaN</td>\n",
       "      <td>NaN</td>\n",
       "      <td>NaN</td>\n",
       "      <td>2005.5</td>\n",
       "      <td>0.0</td>\n",
       "    </tr>\n",
       "  </tbody>\n",
       "</table>\n",
       "</div>"
      ],
      "text/plain": [
       "    day  timestamp    product  bid_price_1  bid_volume_1  bid_price_2  \\\n",
       "2    -1          0  SQUID_INK         2005             1       2002.0   \n",
       "15   -1        100  SQUID_INK         2004            24          NaN   \n",
       "21   -1        200  SQUID_INK         2003            22          NaN   \n",
       "25   -1        300  SQUID_INK         2003            31          NaN   \n",
       "34   -1        400  SQUID_INK         2004            27          NaN   \n",
       "\n",
       "    bid_volume_2  bid_price_3  bid_volume_3  ask_price_1  ask_volume_1  \\\n",
       "2           31.0          NaN           NaN         2006            31   \n",
       "15           NaN          NaN           NaN         2007            24   \n",
       "21           NaN          NaN           NaN         2006            20   \n",
       "25           NaN          NaN           NaN         2006            31   \n",
       "34           NaN          NaN           NaN         2007            27   \n",
       "\n",
       "    ask_price_2  ask_volume_2  ask_price_3  ask_volume_3  mid_price  \\\n",
       "2           NaN           NaN          NaN           NaN     2005.5   \n",
       "15          NaN           NaN          NaN           NaN     2005.5   \n",
       "21          NaN           NaN          NaN           NaN     2004.5   \n",
       "25          NaN           NaN          NaN           NaN     2004.5   \n",
       "34          NaN           NaN          NaN           NaN     2005.5   \n",
       "\n",
       "    profit_and_loss  \n",
       "2               0.0  \n",
       "15              0.0  \n",
       "21              0.0  \n",
       "25              0.0  \n",
       "34              0.0  "
      ]
     },
     "execution_count": 3,
     "metadata": {},
     "output_type": "execute_result"
    }
   ],
   "source": [
    "# Load Squid Ink price data for Round 2\n",
    "squid_data = load_price_data(2, 'SQUID_INK')\n",
    "\n",
    "# Display the first few rows\n",
    "squid_data.head()"
   ]
  },
  {
   "cell_type": "code",
   "execution_count": 4,
   "metadata": {},
   "outputs": [
    {
     "name": "stdout",
     "output_type": "stream",
     "text": [
      "Columns in the price data:\n"
     ]
    },
    {
     "data": {
      "text/plain": [
       "Index(['day', 'timestamp', 'product', 'bid_price_1', 'bid_volume_1',\n",
       "       'bid_price_2', 'bid_volume_2', 'bid_price_3', 'bid_volume_3',\n",
       "       'ask_price_1', 'ask_volume_1', 'ask_price_2', 'ask_volume_2',\n",
       "       'ask_price_3', 'ask_volume_3', 'mid_price', 'profit_and_loss'],\n",
       "      dtype='object')"
      ]
     },
     "execution_count": 4,
     "metadata": {},
     "output_type": "execute_result"
    }
   ],
   "source": [
    "# Check the columns in the dataframe\n",
    "print(\"Columns in the price data:\")\n",
    "squid_data.columns"
   ]
  },
  {
   "cell_type": "markdown",
   "metadata": {},
   "source": [
    "### 1.3 Calculate Returns and Identify Large Return Events"
   ]
  },
  {
   "cell_type": "code",
   "execution_count": 5,
   "metadata": {},
   "outputs": [
    {
     "name": "stdout",
     "output_type": "stream",
     "text": [
      "Summary statistics of returns:\n"
     ]
    },
    {
     "data": {
      "text/plain": [
       "count    29999.000000\n",
       "mean         0.000679\n",
       "std          0.036895\n",
       "min         -0.125756\n",
       "25%         -0.027352\n",
       "50%          0.003051\n",
       "75%          0.024625\n",
       "max          0.113577\n",
       "Name: returns, dtype: float64"
      ]
     },
     "execution_count": 5,
     "metadata": {},
     "output_type": "execute_result"
    }
   ],
   "source": [
    "# Calculate mid price\n",
    "squid_data['mid_price'] = (squid_data['ask_price_1'] + squid_data['bid_price_1']) / 2\n",
    "\n",
    "# Sort by timestamp to ensure proper return calculation\n",
    "squid_data = squid_data.sort_values('timestamp')\n",
    "\n",
    "# Calculate returns\n",
    "squid_data['returns'] = squid_data['mid_price'].pct_change()\n",
    "\n",
    "# Calculate absolute returns\n",
    "squid_data['abs_returns'] = squid_data['returns'].abs()\n",
    "\n",
    "# Display summary statistics of returns\n",
    "print(\"Summary statistics of returns:\")\n",
    "squid_data['returns'].describe()"
   ]
  },
  {
   "cell_type": "code",
   "execution_count": 6,
   "metadata": {},
   "outputs": [
    {
     "data": {
      "image/png": "[encoded data removed]",
      "text/plain": [
       "<Figure size 1200x600 with 1 Axes>"
      ]
     },
     "metadata": {},
     "output_type": "display_data"
    }
   ],
   "source": [
    "# Plot the distribution of returns\n",
    "plt.figure(figsize=(12, 6))\n",
    "plt.hist(squid_data['returns'].dropna(), bins=100, alpha=0.7)\n",
    "plt.title('Distribution of Squid Ink Returns - Round 2')\n",
    "plt.xlabel('Returns')\n",
    "plt.ylabel('Frequency')\n",
    "plt.grid(True)\n",
    "plt.tight_layout()\n",
    "plt.show()"
   ]
  },
  {
   "cell_type": "code",
   "execution_count": 7,
   "metadata": {},
   "outputs": [
    {
     "name": "stdout",
     "output_type": "stream",
     "text": [
      "Large return threshold (99th percentile): 0.080723\n",
      "Number of large return events: 300\n",
      "Percentage of all observations: 1.00%\n"
     ]
    }
   ],
   "source": [
    "# Define what constitutes a \"large\" return (e.g., top 1% of absolute returns)\n",
    "large_return_threshold = squid_data['abs_returns'].quantile(0.99)\n",
    "print(f\"Large return threshold (99th percentile): {large_return_threshold:.6f}\")\n",
    "\n",
    "# Identify timestamps with large returns\n",
    "large_return_indices = squid_data[squid_data['abs_returns'] >= large_return_threshold].index\n",
    "large_return_timestamps = squid_data.loc[large_return_indices, 'timestamp']\n",
    "\n",
    "print(f\"Number of large return events: {len(large_return_timestamps)}\")\n",
    "print(f\"Percentage of all observations: {len(large_return_timestamps) / len(squid_data) * 100:.2f}%\")"
   ]
  },
  {
   "cell_type": "code",
   "execution_count": 8,
   "metadata": {},
   "outputs": [
    {
     "data": {
      "image/png": "[encoded data removed]",
      "text/plain": [
       "<Figure size 1400x700 with 1 Axes>"
      ]
     },
     "metadata": {},
     "output_type": "display_data"
    }
   ],
   "source": [
    "# Plot mid price and highlight large return events\n",
    "plt.figure(figsize=(14, 7))\n",
    "plt.plot(squid_data['timestamp'], squid_data['mid_price'], alpha=0.7)\n",
    "plt.scatter(large_return_timestamps, \n",
    "            squid_data.loc[large_return_indices, 'mid_price'], \n",
    "            color='red', alpha=0.7, s=30)\n",
    "plt.title('Squid Ink Mid Price with Large Return Events Highlighted - Round 2')\n",
    "plt.xlabel('Timestamp')\n",
    "plt.ylabel('Mid Price')\n",
    "plt.grid(True)\n",
    "plt.tight_layout()\n",
    "plt.show()"
   ]
  },
  {
   "cell_type": "markdown",
   "metadata": {},
   "source": [
    "### 1.4 Save Data for Next Part\n",
    "\n",
    "Let's save the processed data so we can use it in the next part of the analysis."
   ]
  },
  {
   "cell_type": "code",
   "execution_count": 9,
   "metadata": {},
   "outputs": [
    {
     "name": "stdout",
     "output_type": "stream",
     "text": [
      "Saved processed data to ../data\\squid_data_with_returns.pkl\n",
      "Saved large return indices to ../data\\large_return_indices.pkl\n"
     ]
    }
   ],
   "source": [
    "# Create output directory if it doesn't exist\n",
    "output_dir = '../data'\n",
    "os.makedirs(output_dir, exist_ok=True)\n",
    "\n",
    "# Save processed data\n",
    "squid_data.to_pickle(os.path.join(output_dir, 'squid_data_with_returns.pkl'))\n",
    "print(f\"Saved processed data to {os.path.join(output_dir, 'squid_data_with_returns.pkl')}\")\n",
    "\n",
    "# Save large return indices\n",
    "pd.Series(large_return_indices).to_pickle(os.path.join(output_dir, 'large_return_indices.pkl'))\n",
    "print(f\"Saved large return indices to {os.path.join(output_dir, 'large_return_indices.pkl')}\")"
   ]
  },
  {
   "cell_type": "markdown",
   "metadata": {},
   "source": [
    "## Summary of Part 1\n",
    "\n",
    "In this first part of the analysis, we have:\n",
    "\n",
    "1. Loaded the price data for Squid Ink in Round 2\n",
    "2. Calculated mid prices and returns\n",
    "3. Identified large return events (top 1% of absolute returns)\n",
    "4. Visualized these events on the price chart\n",
    "5. Saved the processed data for use in the next part\n",
    "\n",
    "In Part 2, we will extract and analyze orderbook features right before these large return events."
   ]
  }
 ],
 "metadata": {
  "kernelspec": {
   "display_name": "prosperity",
   "language": "python",
   "name": "python3"
  },
  "language_info": {
   "codemirror_mode": {
    "name": "ipython",
    "version": 3
   },
   "file_extension": ".py",
   "mimetype": "text/x-python",
   "name": "python",
   "nbconvert_exporter": "python",
   "pygments_lexer": "ipython3",
   "version": "3.11.8"
  }
 },
 "nbformat": 4,
 "nbformat_minor": 4
}
