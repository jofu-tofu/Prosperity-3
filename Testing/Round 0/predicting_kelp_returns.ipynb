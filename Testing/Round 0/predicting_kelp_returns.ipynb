{
 "cells": [
  {
   "cell_type": "code",
   "execution_count": 1,
   "metadata": {},
   "outputs": [],
   "source": [
    "import numpy as np\n",
    "import pandas as pd\n",
    "from importlib import reload\n",
    "import sys\n",
    "import os\n",
    "sys.path.append(os.path.abspath('../'))\n",
    "import util\n",
    "import matplotlib.pyplot as plt\n",
    "import seaborn as sns\n",
    "import numpy as np\n",
    "import pandas as pd\n",
    "\n"
   ]
  },
  {
   "cell_type": "code",
   "execution_count": 2,
   "metadata": {},
   "outputs": [],
   "source": [
    "def get_fracdiff_weights(d, size):\n",
    "    w = [1.0]\n",
    "    for k in range(1, size):\n",
    "        w_ = -w[-1] * (d - k + 1) / k\n",
    "        w.append(w_)\n",
    "    return np.array(w[::-1])\n",
    "\n",
    "def frac_diff(series, d, thresh=1e-5):\n",
    "    w = get_fracdiff_weights(d, len(series))\n",
    "    w = w[np.abs(w) > thresh]\n",
    "    result = []\n",
    "    for i in range(len(w), len(series)):\n",
    "        val = np.dot(w, series[i - len(w):i])\n",
    "        result.append(val)\n",
    "    return pd.Series(result, index=series.index[len(series) - len(result):])"
   ]
  }
 ],
 "metadata": {
  "kernelspec": {
   "display_name": "prosperity",
   "language": "python",
   "name": "python3"
  },
  "language_info": {
   "codemirror_mode": {
    "name": "ipython",
    "version": 3
   },
   "file_extension": ".py",
   "mimetype": "text/x-python",
   "name": "python",
   "nbconvert_exporter": "python",
   "pygments_lexer": "ipython3",
   "version": "3.11.8"
  }
 },
 "nbformat": 4,
 "nbformat_minor": 2
}
