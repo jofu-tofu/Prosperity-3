{
 "cells": [
  {
   "cell_type": "code",
   "execution_count": 2,
   "metadata": {},
   "outputs": [],
   "source": [
    "import io\n",
    "import pandas as pd\n",
    "\n",
    "\n",
    "data = 'data/r0_d0.log'\n",
    "\n",
    "with open(data, \"r\") as file:\n",
    "    content = file.read()\n",
    "_, split = content.split(\"\\n\\n\\n\\nActivities log:\")\n",
    "market_csv, trade_json = split.split(\"\\n\\n\\n\\nTrade History:\")\n",
    "market_data = pd.read_csv(io.StringIO(market_csv), sep=\";\")\n",
    "trade_history = pd.read_json(io.StringIO(trade_json))"
   ]
  },
  {
   "cell_type": "code",
   "execution_count": 6,
   "metadata": {},
   "outputs": [
    {
     "data": {
      "text/plain": [
       "array(['RAINFOREST_RESIN', 'KELP'], dtype=object)"
      ]
     },
     "execution_count": 6,
     "metadata": {},
     "output_type": "execute_result"
    }
   ],
   "source": [
    "market_data[\"product\"].unique()\n"
   ]
  },
  {
   "cell_type": "code",
   "execution_count": null,
   "metadata": {},
   "outputs": [],
   "source": [
    "import util\n",
    "import importlib\n",
    "importlib.reload(util)\n",
    "\n",
    "bt = util.Backtester('trader', 'r0_d0')\n",
    "\n"
   ]
  }
 ],
 "metadata": {
  "kernelspec": {
   "display_name": ".venv",
   "language": "python",
   "name": "python3"
  },
  "language_info": {
   "codemirror_mode": {
    "name": "ipython",
    "version": 3
   },
   "file_extension": ".py",
   "mimetype": "text/x-python",
   "name": "python",
   "nbconvert_exporter": "python",
   "pygments_lexer": "ipython3",
   "version": "3.10.12"
  }
 },
 "nbformat": 4,
 "nbformat_minor": 2
}
